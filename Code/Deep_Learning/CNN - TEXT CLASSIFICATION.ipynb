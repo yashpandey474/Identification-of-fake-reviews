{
 "cells": [
  {
   "cell_type": "code",
   "execution_count": 7,
   "id": "b5e53c8a",
   "metadata": {},
   "outputs": [],
   "source": [
    "#GOAL - USE CNN FOR TEXT CLASSIFICATION WITH KERAS' TOKENIZER FOR PREPROCESSING\n",
    "import pandas as pd\n",
    "from sklearn.model_selection import train_test_split\n",
    "from keras.preprocessing.text import Tokenizer\n",
    "from tensorflow.keras.preprocessing.sequence import pad_sequences\n",
    "from keras.models import Sequential\n",
    "from keras.layers import Embedding, Conv1D, GlobalMaxPooling1D, Dense"
   ]
  },
  {
   "cell_type": "code",
   "execution_count": 3,
   "id": "bd40b6cc",
   "metadata": {},
   "outputs": [],
   "source": [
    "#READ THE FILE\n",
    "df = pd.read_csv(\"Datasets/amazon_reviews_3.csv\")"
   ]
  },
  {
   "cell_type": "code",
   "execution_count": 6,
   "id": "70460913",
   "metadata": {},
   "outputs": [],
   "source": [
    "#USE THE COLUMN WITH ALREADY LEMMATIZED & CLEANED TEXT\n",
    "text_features = df['PREPROCESSED_REVIEW_TEXT']\n",
    "labels = df['LABEL_ENCODED']"
   ]
  },
  {
   "cell_type": "code",
   "execution_count": 8,
   "id": "d77db55f",
   "metadata": {},
   "outputs": [],
   "source": [
    "#SPLIT INTO TRAINING AND TESTING SET\n",
    "X_train, X_test, y_train, y_test = train_test_split(\n",
    "    text_features, labels,\n",
    "    test_size=0.2,\n",
    "    random_state = 42\n",
    ")"
   ]
  },
  {
   "cell_type": "code",
   "execution_count": 9,
   "id": "f8f81874",
   "metadata": {},
   "outputs": [],
   "source": [
    "#CONVERT THE TEXTS TO SEQUENCES\n",
    "tokenizer = Tokenizer()\n",
    "tokenizer.fit_on_texts(X_train)\n",
    "\n",
    "train_sequences = tokenizer.texts_to_sequences(X_train)\n",
    "test_sequences = tokenizer.texts_to_sequences(X_test)"
   ]
  },
  {
   "cell_type": "code",
   "execution_count": 10,
   "id": "968220fc",
   "metadata": {},
   "outputs": [],
   "source": [
    "max_seq_length = 100 #CAN BE ADJUSTED"
   ]
  },
  {
   "cell_type": "code",
   "execution_count": 11,
   "id": "5a424c84",
   "metadata": {},
   "outputs": [],
   "source": [
    "train_sequences = pad_sequences(train_sequences, maxlen=max_seq_length)\n",
    "test_sequences = pad_sequences(test_sequences, maxlen=max_seq_length)"
   ]
  },
  {
   "cell_type": "code",
   "execution_count": 13,
   "id": "e0b97193",
   "metadata": {},
   "outputs": [],
   "source": [
    "vocab_size = len(tokenizer.word_index) + 1"
   ]
  },
  {
   "cell_type": "code",
   "execution_count": 14,
   "id": "a2f3701a",
   "metadata": {},
   "outputs": [],
   "source": [
    "#CREATE THE MODEL\n",
    "model = Sequential()\n",
    "model.add(Embedding(input_dim=vocab_size, output_dim=100, input_length=max_seq_length))\n",
    "model.add(Conv1D(filters=128, kernel_size=3, activation='relu'))\n",
    "model.add(GlobalMaxPooling1D())\n",
    "model.add(Dense(units=64, activation='relu'))\n",
    "model.add(Dense(units=1, activation='sigmoid'))"
   ]
  },
  {
   "cell_type": "code",
   "execution_count": 15,
   "id": "3c706830",
   "metadata": {},
   "outputs": [],
   "source": [
    "#COMPILE THE MODEL\n",
    "model.compile(loss='binary_crossentropy', optimizer='adam', metrics=['accuracy'])"
   ]
  },
  {
   "cell_type": "code",
   "execution_count": 16,
   "id": "ccad81c3",
   "metadata": {},
   "outputs": [
    {
     "name": "stdout",
     "output_type": "stream",
     "text": [
      "Epoch 1/10\n",
      "420/420 [==============================] - 19s 42ms/step - loss: 0.6694 - accuracy: 0.5785 - val_loss: 0.6450 - val_accuracy: 0.6292\n",
      "Epoch 2/10\n",
      "420/420 [==============================] - 18s 42ms/step - loss: 0.5171 - accuracy: 0.7521 - val_loss: 0.6731 - val_accuracy: 0.6414\n",
      "Epoch 3/10\n",
      "420/420 [==============================] - 18s 42ms/step - loss: 0.1975 - accuracy: 0.9304 - val_loss: 0.8722 - val_accuracy: 0.6155\n",
      "Epoch 4/10\n",
      "420/420 [==============================] - 17s 41ms/step - loss: 0.0259 - accuracy: 0.9942 - val_loss: 1.1641 - val_accuracy: 0.6185\n",
      "Epoch 5/10\n",
      "420/420 [==============================] - 18s 43ms/step - loss: 0.0032 - accuracy: 0.9999 - val_loss: 1.3174 - val_accuracy: 0.6211\n",
      "Epoch 6/10\n",
      "420/420 [==============================] - 19s 44ms/step - loss: 8.0155e-04 - accuracy: 1.0000 - val_loss: 1.4096 - val_accuracy: 0.6232\n",
      "Epoch 7/10\n",
      "420/420 [==============================] - 20s 48ms/step - loss: 4.3800e-04 - accuracy: 1.0000 - val_loss: 1.4778 - val_accuracy: 0.6244\n",
      "Epoch 8/10\n",
      "420/420 [==============================] - 19s 45ms/step - loss: 2.8548e-04 - accuracy: 1.0000 - val_loss: 1.5381 - val_accuracy: 0.6238\n",
      "Epoch 9/10\n",
      "420/420 [==============================] - 18s 43ms/step - loss: 1.9650e-04 - accuracy: 1.0000 - val_loss: 1.5920 - val_accuracy: 0.6229\n",
      "Epoch 10/10\n",
      "420/420 [==============================] - 19s 46ms/step - loss: 1.3969e-04 - accuracy: 1.0000 - val_loss: 1.6458 - val_accuracy: 0.6241\n"
     ]
    },
    {
     "data": {
      "text/plain": [
       "<keras.callbacks.History at 0x7ff3ccb74cd0>"
      ]
     },
     "execution_count": 16,
     "metadata": {},
     "output_type": "execute_result"
    }
   ],
   "source": [
    "#TRAIN THE MODEL\n",
    "model.fit(train_sequences, y_train, epochs=10, batch_size=32, validation_split=0.2)"
   ]
  },
  {
   "cell_type": "code",
   "execution_count": 17,
   "id": "187aecff",
   "metadata": {},
   "outputs": [
    {
     "name": "stdout",
     "output_type": "stream",
     "text": [
      "132/132 [==============================] - 1s 3ms/step - loss: 1.7194 - accuracy: 0.6076\n"
     ]
    }
   ],
   "source": [
    "loss, accuracy = model.evaluate(test_sequences, y_test)"
   ]
  },
  {
   "cell_type": "code",
   "execution_count": 18,
   "id": "8adc547c",
   "metadata": {},
   "outputs": [
    {
     "name": "stdout",
     "output_type": "stream",
     "text": [
      "1.7193689346313477 0.607619047164917\n"
     ]
    }
   ],
   "source": [
    "print(loss, accuracy)"
   ]
  },
  {
   "cell_type": "code",
   "execution_count": null,
   "id": "7bd0a0b4",
   "metadata": {},
   "outputs": [],
   "source": []
  }
 ],
 "metadata": {
  "kernelspec": {
   "display_name": "Python 3 (ipykernel)",
   "language": "python",
   "name": "python3"
  },
  "language_info": {
   "codemirror_mode": {
    "name": "ipython",
    "version": 3
   },
   "file_extension": ".py",
   "mimetype": "text/x-python",
   "name": "python",
   "nbconvert_exporter": "python",
   "pygments_lexer": "ipython3",
   "version": "3.10.11"
  }
 },
 "nbformat": 4,
 "nbformat_minor": 5
}
