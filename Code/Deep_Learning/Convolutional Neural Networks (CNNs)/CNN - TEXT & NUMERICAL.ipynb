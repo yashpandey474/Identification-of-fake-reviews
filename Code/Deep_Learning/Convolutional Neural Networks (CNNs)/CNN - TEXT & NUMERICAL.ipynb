{
 "cells": [
  {
   "cell_type": "code",
   "execution_count": null,
   "id": "49e76376",
   "metadata": {},
   "outputs": [],
   "source": [
    "#GOAL - USE CNN FOR TEXT CLASSIFICATION WITH KERAS' TOKENIZER FOR PREPROCESSING\n",
    "import pandas as pd\n",
    "import numpy as np\n",
    "from sklearn.model_selection import train_test_split\n",
    "from keras.preprocessing.text import Tokenizer\n",
    "from tensorflow.keras.preprocessing.sequence import pad_sequences\n",
    "from keras.models import Sequential\n",
    "from keras.layers import Embedding, Conv1D, GlobalMaxPooling1D, Dense"
   ]
  },
  {
   "cell_type": "code",
   "execution_count": 2,
   "id": "4f135314",
   "metadata": {},
   "outputs": [],
   "source": [
    "#READ THE FILE\n",
    "df = pd.read_csv(\"Datasets/amazon_reviews_3.csv\")\n",
    "df = df[:5000]"
   ]
  },
  {
   "cell_type": "code",
   "execution_count": 3,
   "id": "d307b7f9",
   "metadata": {},
   "outputs": [],
   "source": [
    "text_features = df['PREPROCESSED_REVIEW_TEXT']\n",
    "numerical_features = df['VERIFIED_PURCHASE']\n",
    "labels = df['LABEL_ENCODED']"
   ]
  },
  {
   "cell_type": "code",
   "execution_count": 4,
   "id": "58c9911b",
   "metadata": {},
   "outputs": [],
   "source": [
    "#TRAIN-TEST SPLIT\n",
    "X_train_num, X_test_num, X_train_text, X_test_text, y_train, y_test = train_test_split(\n",
    "    numerical_features,\n",
    "    text_features,\n",
    "    labels,\n",
    "    test_size = 0.2,\n",
    "    random_state = 42\n",
    ")"
   ]
  },
  {
   "cell_type": "code",
   "execution_count": 5,
   "id": "1f03ebe2",
   "metadata": {},
   "outputs": [],
   "source": [
    "#CONVERT THE TEXT TO SEQUENCES\n",
    "tokenizer = Tokenizer()\n",
    "tokenizer.fit_on_texts(X_train_text)\n",
    "\n",
    "train_sequences = tokenizer.texts_to_sequences(X_train_text)\n",
    "test_sequences = tokenizer.texts_to_sequences(X_test_text)\n",
    "\n",
    "max_seq_length = 100 #CAN BE ADJUSTED\n",
    "vocab_size = len(tokenizer.word_index) + 1\n",
    "\n",
    "train_sequences = pad_sequences(train_sequences, maxlen=max_seq_length)\n",
    "test_sequences = pad_sequences(test_sequences, maxlen=max_seq_length)"
   ]
  },
  {
   "cell_type": "code",
   "execution_count": 6,
   "id": "d09462e8",
   "metadata": {},
   "outputs": [],
   "source": [
    "#CONVERT NUMERICAL FEATURES TO NUMPY ARRAYS [MATCH INPUT SHAPE]\n",
    "X_train_num = np.array(X_train_num).reshape(-1, 1)\n",
    "X_test_num = np.array(X_test_num).reshape(-1, 1)"
   ]
  },
  {
   "cell_type": "code",
   "execution_count": 7,
   "id": "446ca2f3",
   "metadata": {},
   "outputs": [],
   "source": [
    "#CONCATENATE THE NUMERICAL  FEATURES WITH PREPROCESSED TEXT SEQUENCES\n",
    "train_sequences = np.concatenate((train_sequences, X_train_num), axis=1)\n",
    "test_sequences = np.concatenate((test_sequences, X_test_num), axis=1)"
   ]
  },
  {
   "cell_type": "code",
   "execution_count": 9,
   "id": "7549a97a",
   "metadata": {},
   "outputs": [],
   "source": [
    "#CREATE THE MODEL: MAX_SEQ_LENGTH + NUMBER OF NUMERICAL FEATURES AS INPUT_LENGTH\n",
    "model = Sequential()\n",
    "model.add(Embedding(input_dim=vocab_size, output_dim=100, input_length=max_seq_length + 1))"
   ]
  },
  {
   "cell_type": "code",
   "execution_count": 10,
   "id": "5a88bd51",
   "metadata": {},
   "outputs": [],
   "source": [
    "model.add(Conv1D(filters=128, kernel_size=3, activation='relu'))\n",
    "model.add(GlobalMaxPooling1D())\n",
    "model.add(Dense(units=64, activation='relu'))"
   ]
  },
  {
   "cell_type": "code",
   "execution_count": 11,
   "id": "c950ba6e",
   "metadata": {},
   "outputs": [
    {
     "name": "stdout",
     "output_type": "stream",
     "text": [
      "Epoch 1/10\n",
      "420/420 [==============================] - 18s 39ms/step - loss: 2.4304 - accuracy: 0.0039 - val_loss: 1.9725 - val_accuracy: 0.0000e+00\n",
      "Epoch 2/10\n",
      "420/420 [==============================] - 16s 39ms/step - loss: 1.7672 - accuracy: 0.0070 - val_loss: 1.7292 - val_accuracy: 0.0027\n",
      "Epoch 3/10\n",
      "420/420 [==============================] - 18s 42ms/step - loss: 1.5369 - accuracy: 0.0032 - val_loss: 1.8166 - val_accuracy: 0.0033\n",
      "Epoch 4/10\n",
      "420/420 [==============================] - 17s 40ms/step - loss: 1.3780 - accuracy: 0.0760 - val_loss: 1.9997 - val_accuracy: 0.0342\n",
      "Epoch 5/10\n",
      "420/420 [==============================] - 16s 38ms/step - loss: 1.2882 - accuracy: 0.1975 - val_loss: 2.2267 - val_accuracy: 0.1173\n",
      "Epoch 6/10\n",
      "420/420 [==============================] - 16s 38ms/step - loss: 1.2432 - accuracy: 0.2958 - val_loss: 2.4612 - val_accuracy: 0.1089\n",
      "Epoch 7/10\n",
      "420/420 [==============================] - 15s 36ms/step - loss: 1.2220 - accuracy: 0.3494 - val_loss: 2.5791 - val_accuracy: 0.1676\n",
      "Epoch 8/10\n",
      "420/420 [==============================] - 15s 36ms/step - loss: 1.2126 - accuracy: 0.4001 - val_loss: 2.7084 - val_accuracy: 0.1955\n",
      "Epoch 9/10\n",
      "420/420 [==============================] - 15s 36ms/step - loss: 1.2090 - accuracy: 0.4272 - val_loss: 2.7725 - val_accuracy: 0.1854\n",
      "Epoch 10/10\n",
      "420/420 [==============================] - 15s 36ms/step - loss: 1.2075 - accuracy: 0.4500 - val_loss: 2.8139 - val_accuracy: 0.2036\n"
     ]
    },
    {
     "data": {
      "text/plain": [
       "<keras.callbacks.History at 0x7fb9b74e1330>"
      ]
     },
     "execution_count": 11,
     "metadata": {},
     "output_type": "execute_result"
    }
   ],
   "source": [
    "model.compile(loss='binary_crossentropy', optimizer='adam', metrics=['accuracy'])\n",
    "model.fit(train_sequences, y_train, epochs=10, batch_size=32, validation_split=0.2)"
   ]
  },
  {
   "cell_type": "code",
   "execution_count": null,
   "id": "794cb93f",
   "metadata": {},
   "outputs": [
    {
     "name": "stdout",
     "output_type": "stream",
     "text": [
      "Epoch 1/50\n",
      "420/420 [==============================] - 17s 40ms/step - loss: 1.2122 - accuracy: 0.3950 - val_loss: 2.9592 - val_accuracy: 0.1723\n",
      "Epoch 2/50\n",
      "420/420 [==============================] - 17s 41ms/step - loss: 1.2076 - accuracy: 0.4467 - val_loss: 3.0860 - val_accuracy: 0.2185\n",
      "Epoch 3/50\n",
      "420/420 [==============================] - 16s 39ms/step - loss: 1.2060 - accuracy: 0.4864 - val_loss: 3.0703 - val_accuracy: 0.2170\n",
      "Epoch 4/50\n",
      "420/420 [==============================] - 17s 41ms/step - loss: 1.2058 - accuracy: 0.4929 - val_loss: 3.0771 - val_accuracy: 0.2137\n",
      "Epoch 5/50\n",
      "420/420 [==============================] - 17s 41ms/step - loss: 1.2057 - accuracy: 0.5030 - val_loss: 3.0843 - val_accuracy: 0.2190\n",
      "Epoch 6/50\n",
      "420/420 [==============================] - 16s 39ms/step - loss: 1.2057 - accuracy: 0.5065 - val_loss: 3.0881 - val_accuracy: 0.2208\n",
      "Epoch 7/50\n",
      "420/420 [==============================] - 17s 40ms/step - loss: 1.2057 - accuracy: 0.5082 - val_loss: 3.0895 - val_accuracy: 0.2185\n",
      "Epoch 8/50\n",
      "420/420 [==============================] - 16s 39ms/step - loss: 1.2057 - accuracy: 0.5092 - val_loss: 3.0888 - val_accuracy: 0.2193\n",
      "Epoch 9/50\n",
      "420/420 [==============================] - 17s 41ms/step - loss: 1.2057 - accuracy: 0.5097 - val_loss: 3.0892 - val_accuracy: 0.2188\n",
      "Epoch 10/50\n",
      "420/420 [==============================] - 16s 39ms/step - loss: 1.2057 - accuracy: 0.5101 - val_loss: 3.0875 - val_accuracy: 0.2179\n",
      "Epoch 11/50\n",
      "420/420 [==============================] - 17s 40ms/step - loss: 1.2057 - accuracy: 0.5100 - val_loss: 3.0919 - val_accuracy: 0.2182\n",
      "Epoch 12/50\n",
      "420/420 [==============================] - 17s 40ms/step - loss: 1.2057 - accuracy: 0.5103 - val_loss: 3.0889 - val_accuracy: 0.2185\n",
      "Epoch 13/50\n",
      "420/420 [==============================] - 16s 39ms/step - loss: 1.2057 - accuracy: 0.5093 - val_loss: 3.0945 - val_accuracy: 0.2188\n",
      "Epoch 14/50\n",
      "420/420 [==============================] - 17s 40ms/step - loss: 1.2057 - accuracy: 0.5087 - val_loss: 3.0924 - val_accuracy: 0.2185\n",
      "Epoch 15/50\n",
      "420/420 [==============================] - 15s 37ms/step - loss: 1.2057 - accuracy: 0.5785 - val_loss: 3.1350 - val_accuracy: 0.2086\n",
      "Epoch 16/50\n",
      "420/420 [==============================] - 16s 39ms/step - loss: 1.3655 - accuracy: 0.3730 - val_loss: 3.5520 - val_accuracy: 0.0911\n",
      "Epoch 17/50\n",
      "420/420 [==============================] - 16s 39ms/step - loss: 1.2271 - accuracy: 0.1969 - val_loss: 3.6785 - val_accuracy: 0.1595\n",
      "Epoch 18/50\n",
      "420/420 [==============================] - 19s 46ms/step - loss: 1.1072 - accuracy: 0.3621 - val_loss: 3.5419 - val_accuracy: 0.1842\n",
      "Epoch 19/50\n",
      "420/420 [==============================] - 16s 38ms/step - loss: 1.0926 - accuracy: 0.4065 - val_loss: 3.5855 - val_accuracy: 0.1866\n",
      "Epoch 20/50\n",
      "420/420 [==============================] - 16s 38ms/step - loss: 1.0894 - accuracy: 0.4467 - val_loss: 3.5821 - val_accuracy: 0.1970\n",
      "Epoch 21/50\n",
      "420/420 [==============================] - 16s 37ms/step - loss: 1.0889 - accuracy: 0.4662 - val_loss: 3.5874 - val_accuracy: 0.2062\n",
      "Epoch 22/50\n",
      "420/420 [==============================] - 16s 37ms/step - loss: 1.0887 - accuracy: 0.4760 - val_loss: 3.5871 - val_accuracy: 0.2092\n",
      "Epoch 23/50\n",
      "420/420 [==============================] - 16s 37ms/step - loss: 1.0887 - accuracy: 0.4805 - val_loss: 3.5887 - val_accuracy: 0.2098\n",
      "Epoch 24/50\n",
      " 21/420 [>.............................] - ETA: 16s - loss: 1.0943 - accuracy: 0.4762"
     ]
    }
   ],
   "source": [
    "model.fit(train_sequences, y_train, epochs=50, batch_size=32, validation_split=0.2)"
   ]
  },
  {
   "cell_type": "code",
   "execution_count": null,
   "id": "bd03eb48",
   "metadata": {},
   "outputs": [],
   "source": []
  }
 ],
 "metadata": {
  "kernelspec": {
   "display_name": "Python 3 (ipykernel)",
   "language": "python",
   "name": "python3"
  },
  "language_info": {
   "codemirror_mode": {
    "name": "ipython",
    "version": 3
   },
   "file_extension": ".py",
   "mimetype": "text/x-python",
   "name": "python",
   "nbconvert_exporter": "python",
   "pygments_lexer": "ipython3",
   "version": "3.10.11"
  }
 },
 "nbformat": 4,
 "nbformat_minor": 5
}
