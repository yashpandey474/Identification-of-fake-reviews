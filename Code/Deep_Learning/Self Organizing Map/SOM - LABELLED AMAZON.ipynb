{
 "cells": [
  {
   "cell_type": "code",
   "execution_count": 1,
   "id": "7d9b1047",
   "metadata": {},
   "outputs": [],
   "source": [
    "import numpy as np\n",
    "from minisom import MiniSom\n",
    "import matplotlib.pyplot as plt\n",
    "import pandas as pd\n",
    "from sklearn.preprocessing import MinMaxScaler, StandardScaler"
   ]
  },
  {
   "cell_type": "code",
   "execution_count": 2,
   "id": "a75a08b7",
   "metadata": {},
   "outputs": [],
   "source": [
    "df = pd.read_csv(\"../Datasets/amazon_reviews_labelled.csv\")"
   ]
  },
  {
   "cell_type": "code",
   "execution_count": 3,
   "id": "0b6aeff4",
   "metadata": {},
   "outputs": [
    {
     "data": {
      "text/plain": [
       "Index(['Unnamed: 0.4', 'Unnamed: 0.3', 'Unnamed: 0.2', 'Unnamed: 0.1',\n",
       "       'Unnamed: 0', 'RATING', 'VERIFIED_PURCHASE', 'REVIEW_TITLE',\n",
       "       'REVIEW_TEXT', 'NUM_NOUNS', 'NUM_VERBS', 'NUM_ADJECTIVES',\n",
       "       'NUM_ADVERBS', 'REVIEW_LENGTH', 'SENTIMENT_SCORE', 'TITLE_LENGTH',\n",
       "       'AVERAGE_RATING', 'RATING_DEVIATION', 'NUM_REVIEWS', 'READABILITY_FRE',\n",
       "       'SENTIMENT_CATEGORY_ENCODED', 'RATING_CATEGORY_ENCODED',\n",
       "       'COHERENT_ENCODED', 'AVG_WORD_LENGTH', 'LABEL_ENCODED',\n",
       "       'NUM_NAMED_ENTITIES', 'CAPITAL_CHAR_COUNT', 'PUNCTUATION_COUNT',\n",
       "       'PREPROCESSED_REVIEW_TEXT', 'WORD_COUNT', 'SENTIMENT_SCORE_TITLE',\n",
       "       'SENTIMENT_LABEL_TITLE', 'AVG_RATING_VERIFIED',\n",
       "       'AVG_RATING_NON_VERIFIED', 'DEVIATION_VERIFIED',\n",
       "       'DEVIATION_NON_VERIFIED'],\n",
       "      dtype='object')"
      ]
     },
     "execution_count": 3,
     "metadata": {},
     "output_type": "execute_result"
    }
   ],
   "source": [
    "df.columns"
   ]
  },
  {
   "cell_type": "code",
   "execution_count": 7,
   "id": "29600a07",
   "metadata": {},
   "outputs": [],
   "source": [
    "features = [\n",
    "    'RATING', 'VERIFIED_PURCHASE', 'NUM_NOUNS', 'NUM_VERBS', 'NUM_ADJECTIVES',\n",
    "       'NUM_ADVERBS', 'REVIEW_LENGTH', 'SENTIMENT_SCORE', 'TITLE_LENGTH',\n",
    "       'AVERAGE_RATING', 'RATING_DEVIATION', 'NUM_REVIEWS', 'READABILITY_FRE',\n",
    "       'SENTIMENT_CATEGORY_ENCODED', 'RATING_CATEGORY_ENCODED',\n",
    "       'COHERENT_ENCODED', 'AVG_WORD_LENGTH',\n",
    "       'NUM_NAMED_ENTITIES', 'CAPITAL_CHAR_COUNT', 'PUNCTUATION_COUNT',\n",
    "        'WORD_COUNT', 'SENTIMENT_SCORE_TITLE',\n",
    "       'SENTIMENT_LABEL_TITLE', 'AVG_RATING_VERIFIED',\n",
    "       'AVG_RATING_NON_VERIFIED', 'DEVIATION_VERIFIED',\n",
    "       'DEVIATION_NON_VERIFIED'\n",
    "    \n",
    "]"
   ]
  },
  {
   "cell_type": "code",
   "execution_count": 12,
   "id": "6f9bcc92",
   "metadata": {},
   "outputs": [
    {
     "data": {
      "text/plain": [
       "27"
      ]
     },
     "execution_count": 12,
     "metadata": {},
     "output_type": "execute_result"
    }
   ],
   "source": [
    "len(features)"
   ]
  },
  {
   "cell_type": "code",
   "execution_count": 8,
   "id": "7ccb1272",
   "metadata": {},
   "outputs": [],
   "source": [
    "X = df[features]\n",
    "Y = df['LABEL_ENCODED']"
   ]
  },
  {
   "cell_type": "code",
   "execution_count": 9,
   "id": "678fe33a",
   "metadata": {},
   "outputs": [],
   "source": [
    "#MINMAX SCALING\n",
    "sc = MinMaxScaler()\n",
    "X = sc.fit_transform(X)"
   ]
  },
  {
   "cell_type": "code",
   "execution_count": 10,
   "id": "ca6407aa",
   "metadata": {},
   "outputs": [],
   "source": [
    "from minisom import MiniSom"
   ]
  },
  {
   "cell_type": "code",
   "execution_count": 18,
   "id": "fdf3d16f",
   "metadata": {},
   "outputs": [],
   "source": [
    "#INITIALISE THE SOM\n",
    "som = MiniSom(\n",
    "    x=5, y=5, #DIMENSION OF GRID\n",
    "    input_len = 27, #NUMBER OF FEATURES IN X\n",
    "    sigma = 1.0, #RADIUS OF NEIGHBORHOOD\n",
    "    learning_rate = 0.5, #WEIGHT UPDATION \n",
    ")"
   ]
  },
  {
   "cell_type": "code",
   "execution_count": 19,
   "id": "5e1db099",
   "metadata": {},
   "outputs": [],
   "source": [
    "#INITIALISE THE WEIGHTS OF SOM [COORDINATES OF OUTPUT NODES]\n",
    "som.random_weights_init(X) #DATA FOR TRAINING\n",
    "som.train_random(\n",
    "    data = X, #TRAINING DATA\n",
    "    num_iteration = 10000\n",
    ")"
   ]
  },
  {
   "cell_type": "code",
   "execution_count": 20,
   "id": "b7d3da78",
   "metadata": {},
   "outputs": [
    {
     "data": {
      "image/png": "[encoded data removed]",
      "text/plain": [
       "<Figure size 640x480 with 2 Axes>"
      ]
     },
     "metadata": {},
     "output_type": "display_data"
    }
   ],
   "source": [
    "#VISUALISE THE RESULTS: PLOT THE SOM: COLOR BASED ON MID\n",
    "from pylab import bone, pcolor, colorbar, plot, show\n",
    "\n",
    "#INITIALISE FIGURE\n",
    "bone()\n",
    "\n",
    "#ADD INFORMATION ON MID: COLORS FOR RANGES\n",
    "pcolor(som.distance_map().T) #TRANSPOSE OF MID\n",
    "\n",
    "#ADD A LEGEND\n",
    "colorbar() #NORMALISED MID VALUES\n",
    "\n",
    "#ADD MARKERS USING LABELS: APPROVED OR NOT APPROVED\n",
    "markers = ['o', 's'] #CIRCLE & SQUARE\n",
    "colors = ['r', 'g'] #RED OR GREEN\n",
    "\n",
    "for i, x in enumerate(X): #GET INDEX & DATA\n",
    "    #GET WINNING NODE FOR RECORD\n",
    "    w = som.winner(x)\n",
    "    \n",
    "    #PLACE MARKER\n",
    "    plot(\n",
    "        w[0]+0.5, w[1]+0.5, #COORDINATES OF CENTER OF NODE\n",
    "        markers[Y[i]],\n",
    "        markeredgecolor = colors[Y[i]],\n",
    "        markerfacecolor = 'None',\n",
    "        markersize = 10,\n",
    "        markeredgewidth = 2\n",
    "        \n",
    "    )\n",
    "show()"
   ]
  },
  {
   "cell_type": "code",
   "execution_count": null,
   "id": "3c83da02",
   "metadata": {},
   "outputs": [],
   "source": []
  }
 ],
 "metadata": {
  "kernelspec": {
   "display_name": "Python 3 (ipykernel)",
   "language": "python",
   "name": "python3"
  },
  "language_info": {
   "codemirror_mode": {
    "name": "ipython",
    "version": 3
   },
   "file_extension": ".py",
   "mimetype": "text/x-python",
   "name": "python",
   "nbconvert_exporter": "python",
   "pygments_lexer": "ipython3",
   "version": "3.10.11"
  }
 },
 "nbformat": 4,
 "nbformat_minor": 5
}
