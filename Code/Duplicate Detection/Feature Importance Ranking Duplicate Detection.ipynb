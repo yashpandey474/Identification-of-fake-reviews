{
 "cells": [
  {
   "cell_type": "code",
   "execution_count": 43,
   "id": "ee36a628",
   "metadata": {},
   "outputs": [],
   "source": [
    "from sklearn.model_selection import train_test_split\n",
    "from sklearn.feature_extraction.text import TfidfVectorizer\n",
    "from sklearn.metrics.pairwise import cosine_similarity\n",
    "from sklearn.ensemble import RandomForestClassifier\n",
    "import pandas as pd\n",
    "import spacy\n",
    "import numpy as np"
   ]
  },
  {
   "cell_type": "code",
   "execution_count": null,
   "id": "18d6e7ee",
   "metadata": {},
   "outputs": [],
   "source": []
  },
  {
   "cell_type": "code",
   "execution_count": 2,
   "id": "307ad3f2",
   "metadata": {},
   "outputs": [],
   "source": [
    "df = pd.read_csv(\"../Datasets/amazon_reviews_unlabelled.csv\")"
   ]
  },
  {
   "cell_type": "code",
   "execution_count": 3,
   "id": "3cabd1ad",
   "metadata": {},
   "outputs": [
    {
     "data": {
      "text/plain": [
       "Index(['Unnamed: 0.2', 'Unnamed: 0.1', 'Unnamed: 0', 'UNNAMED: 0',\n",
       "       'REVIEW_TITLE', 'RATINGS', 'REVIEW', 'VERIFIED', 'USER_NAME', 'USER_ID',\n",
       "       'MAX_REVIEWS_DAY', 'HELPFUL_VOTES', 'PRODUCT', 'REVIEW_SENTIMENT',\n",
       "       'AVERAGE_RATING', 'RATING_DEVIATION', 'REVIEW_LENGTH', 'TITLE_LENGTH',\n",
       "       'TOTAL_USER_REVIEWS', 'DATETIME', 'REVIEW_DATE_DIFF', 'DATE',\n",
       "       'AVG_WORD_LENGTH', 'TOTAL_PRODUCT_REVIEWS', 'NUM_NOUNS', 'NUM_VERBS',\n",
       "       'NUM_ADJECTIVES', 'NUM_ADVERBS', 'READABILITY_FRE',\n",
       "       'CAPITAL_CHAR_COUNT', 'PUNCTUATION_COUNT', 'REVIEW_WORD_COUNT',\n",
       "       'SENTIMENT_SCORE_TITLE', 'NUM_NAMED_ENTITIES', 'LEXICAL_DIVERSITY',\n",
       "       'WORD_COUNT', 'RATING_CATEGORY', 'SENTIMENT_CATEGORY', 'COHERENCE',\n",
       "       'TOKENIZED_REVIEW', 'NGRAMS', 'TOTAL_VERIFIED_REVIEWS',\n",
       "       'TOTAL_USER_HELPFUL_VOTES', 'PREPROC_REVIEW_TEXT'],\n",
       "      dtype='object')"
      ]
     },
     "execution_count": 3,
     "metadata": {},
     "output_type": "execute_result"
    }
   ],
   "source": [
    "df.columns"
   ]
  },
  {
   "cell_type": "code",
   "execution_count": 4,
   "id": "067c2ae4",
   "metadata": {},
   "outputs": [],
   "source": [
    "df.dropna(inplace = True)"
   ]
  },
  {
   "cell_type": "code",
   "execution_count": 5,
   "id": "05bd993a",
   "metadata": {},
   "outputs": [],
   "source": [
    "X = df['PREPROC_REVIEW_TEXT']"
   ]
  },
  {
   "cell_type": "code",
   "execution_count": 6,
   "id": "f408316c",
   "metadata": {},
   "outputs": [
    {
     "data": {
      "text/plain": [
       "0"
      ]
     },
     "execution_count": 6,
     "metadata": {},
     "output_type": "execute_result"
    }
   ],
   "source": [
    "X.isnull().sum()"
   ]
  },
  {
   "cell_type": "code",
   "execution_count": 7,
   "id": "7b6825ff",
   "metadata": {},
   "outputs": [],
   "source": [
    "def duplicates_tfidf_cosine(X, threshold):\n",
    "    vect = TfidfVectorizer()\n",
    "    X = vect.fit_transform(X)\n",
    "    \n",
    "    similarity_matrix = cosine_similarity(X)\n",
    "    \n",
    "    duplicates = []\n",
    "    \n",
    "    for i in range(len(similarity_matrix)):\n",
    "        for j in range(i+1, len(similarity_matrix)):\n",
    "            if(similarity_matrix[i, j] >= threshold):\n",
    "                duplicates.append(i)\n",
    "                duplicates.append(j)\n",
    "                \n",
    "    return set(duplicates)"
   ]
  },
  {
   "cell_type": "code",
   "execution_count": 10,
   "id": "6da3e886",
   "metadata": {},
   "outputs": [],
   "source": [
    "duplicates = duplicates_tfidf_cosine(X, 0.9)"
   ]
  },
  {
   "cell_type": "code",
   "execution_count": 11,
   "id": "b8d8619f",
   "metadata": {},
   "outputs": [
    {
     "data": {
      "text/plain": [
       "1091"
      ]
     },
     "execution_count": 11,
     "metadata": {},
     "output_type": "execute_result"
    }
   ],
   "source": [
    "len(duplicates)"
   ]
  },
  {
   "cell_type": "code",
   "execution_count": 12,
   "id": "6ee92af8",
   "metadata": {},
   "outputs": [],
   "source": [
    "#ADD LABEL: DUPLICATE OR NOT [ALL CONSIDERED AS POSITIVELY FAKE]\n",
    "df['COSINE_DUPLICATE'] = [1 if index in duplicates else 0 for index in df.index]"
   ]
  },
  {
   "cell_type": "code",
   "execution_count": 16,
   "id": "ebb79104",
   "metadata": {},
   "outputs": [],
   "source": [
    "features = [\n",
    "    'RATINGS',\n",
    "    'VERIFIED',  'MAX_REVIEWS_DAY',\n",
    "    'HELPFUL_VOTES','REVIEW_SENTIMENT', 'AVERAGE_RATING',\n",
    "    'RATING_DEVIATION', 'REVIEW_LENGTH', 'TITLE_LENGTH',\n",
    "    'TOTAL_USER_REVIEWS',  'REVIEW_DATE_DIFF',\n",
    "       'AVG_WORD_LENGTH', 'TOTAL_PRODUCT_REVIEWS', 'READABILITY_FRE',\n",
    "       'CAPITAL_CHAR_COUNT', 'PUNCTUATION_COUNT', 'REVIEW_WORD_COUNT',\n",
    "       'SENTIMENT_SCORE_TITLE', 'NUM_NAMED_ENTITIES', 'LEXICAL_DIVERSITY',\n",
    "       'WORD_COUNT', 'RATING_CATEGORY', 'SENTIMENT_CATEGORY', 'COHERENCE',\n",
    "        'TOTAL_VERIFIED_REVIEWS',\n",
    "       'TOTAL_USER_HELPFUL_VOTES'\n",
    "]\n",
    "for col in features:\n",
    "    df[col] = df[col].astype(int)"
   ]
  },
  {
   "cell_type": "code",
   "execution_count": 17,
   "id": "b143a020",
   "metadata": {},
   "outputs": [],
   "source": [
    "df.to_csv(\"../Datasets/amazon_reviews_unlabelled.csv\")"
   ]
  },
  {
   "cell_type": "code",
   "execution_count": 18,
   "id": "a6c95a46",
   "metadata": {},
   "outputs": [],
   "source": [
    "X = df[features]\n",
    "Y = df['COSINE_DUPLICATE']"
   ]
  },
  {
   "cell_type": "code",
   "execution_count": 15,
   "id": "5c7e0610",
   "metadata": {},
   "outputs": [],
   "source": [
    "#MODEL CHOSEN: RANDOM FOREST\n",
    "classifier = RandomForestClassifier(n_estimators=200, bootstrap=True)"
   ]
  },
  {
   "cell_type": "code",
   "execution_count": 22,
   "id": "50956cb9",
   "metadata": {},
   "outputs": [],
   "source": [
    "X_train, X_test, y_train, y_test = train_test_split(\n",
    "    X,\n",
    "    Y,\n",
    "    test_size = 0.2,\n",
    "    random_state = 42\n",
    ")"
   ]
  },
  {
   "cell_type": "code",
   "execution_count": 23,
   "id": "72a9bfb7",
   "metadata": {},
   "outputs": [
    {
     "data": {
      "text/html": [
       "<style>#sk-container-id-1 {color: black;background-color: white;}#sk-container-id-1 pre{padding: 0;}#sk-container-id-1 div.sk-toggleable {background-color: white;}#sk-container-id-1 label.sk-toggleable__label {cursor: pointer;display: block;width: 100%;margin-bottom: 0;padding: 0.3em;box-sizing: border-box;text-align: center;}#sk-container-id-1 label.sk-toggleable__label-arrow:before {content: \"▸\";float: left;margin-right: 0.25em;color: #696969;}#sk-container-id-1 label.sk-toggleable__label-arrow:hover:before {color: black;}#sk-container-id-1 div.sk-estimator:hover label.sk-toggleable__label-arrow:before {color: black;}#sk-container-id-1 div.sk-toggleable__content {max-height: 0;max-width: 0;overflow: hidden;text-align: left;background-color: #f0f8ff;}#sk-container-id-1 div.sk-toggleable__content pre {margin: 0.2em;color: black;border-radius: 0.25em;background-color: #f0f8ff;}#sk-container-id-1 input.sk-toggleable__control:checked~div.sk-toggleable__content {max-height: 200px;max-width: 100%;overflow: auto;}#sk-container-id-1 input.sk-toggleable__control:checked~label.sk-toggleable__label-arrow:before {content: \"▾\";}#sk-container-id-1 div.sk-estimator input.sk-toggleable__control:checked~label.sk-toggleable__label {background-color: #d4ebff;}#sk-container-id-1 div.sk-label input.sk-toggleable__control:checked~label.sk-toggleable__label {background-color: #d4ebff;}#sk-container-id-1 input.sk-hidden--visually {border: 0;clip: rect(1px 1px 1px 1px);clip: rect(1px, 1px, 1px, 1px);height: 1px;margin: -1px;overflow: hidden;padding: 0;position: absolute;width: 1px;}#sk-container-id-1 div.sk-estimator {font-family: monospace;background-color: #f0f8ff;border: 1px dotted black;border-radius: 0.25em;box-sizing: border-box;margin-bottom: 0.5em;}#sk-container-id-1 div.sk-estimator:hover {background-color: #d4ebff;}#sk-container-id-1 div.sk-parallel-item::after {content: \"\";width: 100%;border-bottom: 1px solid gray;flex-grow: 1;}#sk-container-id-1 div.sk-label:hover label.sk-toggleable__label {background-color: #d4ebff;}#sk-container-id-1 div.sk-serial::before {content: \"\";position: absolute;border-left: 1px solid gray;box-sizing: border-box;top: 0;bottom: 0;left: 50%;z-index: 0;}#sk-container-id-1 div.sk-serial {display: flex;flex-direction: column;align-items: center;background-color: white;padding-right: 0.2em;padding-left: 0.2em;position: relative;}#sk-container-id-1 div.sk-item {position: relative;z-index: 1;}#sk-container-id-1 div.sk-parallel {display: flex;align-items: stretch;justify-content: center;background-color: white;position: relative;}#sk-container-id-1 div.sk-item::before, #sk-container-id-1 div.sk-parallel-item::before {content: \"\";position: absolute;border-left: 1px solid gray;box-sizing: border-box;top: 0;bottom: 0;left: 50%;z-index: -1;}#sk-container-id-1 div.sk-parallel-item {display: flex;flex-direction: column;z-index: 1;position: relative;background-color: white;}#sk-container-id-1 div.sk-parallel-item:first-child::after {align-self: flex-end;width: 50%;}#sk-container-id-1 div.sk-parallel-item:last-child::after {align-self: flex-start;width: 50%;}#sk-container-id-1 div.sk-parallel-item:only-child::after {width: 0;}#sk-container-id-1 div.sk-dashed-wrapped {border: 1px dashed gray;margin: 0 0.4em 0.5em 0.4em;box-sizing: border-box;padding-bottom: 0.4em;background-color: white;}#sk-container-id-1 div.sk-label label {font-family: monospace;font-weight: bold;display: inline-block;line-height: 1.2em;}#sk-container-id-1 div.sk-label-container {text-align: center;}#sk-container-id-1 div.sk-container {/* jupyter's `normalize.less` sets `[hidden] { display: none; }` but bootstrap.min.css set `[hidden] { display: none !important; }` so we also need the `!important` here to be able to override the default hidden behavior on the sphinx rendered scikit-learn.org. See: https://github.com/scikit-learn/scikit-learn/issues/21755 */display: inline-block !important;position: relative;}#sk-container-id-1 div.sk-text-repr-fallback {display: none;}</style><div id=\"sk-container-id-1\" class=\"sk-top-container\"><div class=\"sk-text-repr-fallback\"><pre>RandomForestClassifier(n_estimators=200)</pre><b>In a Jupyter environment, please rerun this cell to show the HTML representation or trust the notebook. <br />On GitHub, the HTML representation is unable to render, please try loading this page with nbviewer.org.</b></div><div class=\"sk-container\" hidden><div class=\"sk-item\"><div class=\"sk-estimator sk-toggleable\"><input class=\"sk-toggleable__control sk-hidden--visually\" id=\"sk-estimator-id-1\" type=\"checkbox\" checked><label for=\"sk-estimator-id-1\" class=\"sk-toggleable__label sk-toggleable__label-arrow\">RandomForestClassifier</label><div class=\"sk-toggleable__content\"><pre>RandomForestClassifier(n_estimators=200)</pre></div></div></div></div></div>"
      ],
      "text/plain": [
       "RandomForestClassifier(n_estimators=200)"
      ]
     },
     "execution_count": 23,
     "metadata": {},
     "output_type": "execute_result"
    }
   ],
   "source": [
    "#TRAIN MODEL\n",
    "classifier.fit(X_train, y_train)"
   ]
  },
  {
   "cell_type": "code",
   "execution_count": 37,
   "id": "14e42753",
   "metadata": {},
   "outputs": [],
   "source": [
    "importances = classifier.feature_importances_\n",
    "importances = np.array(importances)"
   ]
  },
  {
   "cell_type": "code",
   "execution_count": 38,
   "id": "3d7ca8b2",
   "metadata": {},
   "outputs": [],
   "source": [
    "sorted_indices = np.argsort(importances)[::-1]"
   ]
  },
  {
   "cell_type": "code",
   "execution_count": 39,
   "id": "41f86e83",
   "metadata": {},
   "outputs": [],
   "source": [
    "sorted_features = np.array(features)[sorted_indices]\n",
    "sorted_scores = importances[sorted_indices]"
   ]
  },
  {
   "cell_type": "code",
   "execution_count": 40,
   "id": "26dacb2a",
   "metadata": {},
   "outputs": [
    {
     "data": {
      "text/plain": [
       "array(['REVIEW_LENGTH', 'WORD_COUNT', 'REVIEW_WORD_COUNT',\n",
       "       'READABILITY_FRE', 'TOTAL_VERIFIED_REVIEWS',\n",
       "       'TOTAL_PRODUCT_REVIEWS', 'TOTAL_USER_REVIEWS', 'REVIEW_DATE_DIFF',\n",
       "       'MAX_REVIEWS_DAY', 'TOTAL_USER_HELPFUL_VOTES', 'PUNCTUATION_COUNT',\n",
       "       'CAPITAL_CHAR_COUNT', 'TITLE_LENGTH', 'AVG_WORD_LENGTH',\n",
       "       'AVERAGE_RATING', 'LEXICAL_DIVERSITY', 'NUM_NAMED_ENTITIES',\n",
       "       'RATINGS', 'SENTIMENT_CATEGORY', 'COHERENCE', 'HELPFUL_VOTES',\n",
       "       'VERIFIED', 'RATING_DEVIATION', 'REVIEW_SENTIMENT',\n",
       "       'RATING_CATEGORY', 'SENTIMENT_SCORE_TITLE'], dtype='<U24')"
      ]
     },
     "execution_count": 40,
     "metadata": {},
     "output_type": "execute_result"
    }
   ],
   "source": [
    "sorted_features"
   ]
  },
  {
   "cell_type": "code",
   "execution_count": null,
   "id": "01c6337e",
   "metadata": {},
   "outputs": [],
   "source": []
  },
  {
   "cell_type": "code",
   "execution_count": null,
   "id": "193a6dfe",
   "metadata": {},
   "outputs": [],
   "source": []
  },
  {
   "cell_type": "code",
   "execution_count": null,
   "id": "9e79147a",
   "metadata": {},
   "outputs": [],
   "source": []
  }
 ],
 "metadata": {
  "kernelspec": {
   "display_name": "Python 3 (ipykernel)",
   "language": "python",
   "name": "python3"
  },
  "language_info": {
   "codemirror_mode": {
    "name": "ipython",
    "version": 3
   },
   "file_extension": ".py",
   "mimetype": "text/x-python",
   "name": "python",
   "nbconvert_exporter": "python",
   "pygments_lexer": "ipython3",
   "version": "3.10.11"
  }
 },
 "nbformat": 4,
 "nbformat_minor": 5
}
