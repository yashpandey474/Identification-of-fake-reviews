{
 "cells": [
  {
   "cell_type": "code",
   "execution_count": 13,
   "id": "aeaa2d47",
   "metadata": {},
   "outputs": [],
   "source": [
    "import pandas as pd\n",
    "import numpy as np\n",
    "from sklearn.model_selection import train_test_split\n",
    "from sklearn.linear_model import LogisticRegression\n",
    "from sklearn.metrics import classification_report"
   ]
  },
  {
   "cell_type": "code",
   "execution_count": 4,
   "id": "76e78bd8",
   "metadata": {},
   "outputs": [],
   "source": [
    "df = pd.read_csv(\"Datasets/amazon_reviews_labelled.csv\")"
   ]
  },
  {
   "cell_type": "code",
   "execution_count": 5,
   "id": "c2cd08e2",
   "metadata": {},
   "outputs": [],
   "source": [
    "text_values = df['PREPROCESSED_REVIEW_TEXT']"
   ]
  },
  {
   "cell_type": "code",
   "execution_count": 6,
   "id": "da74a6ca",
   "metadata": {},
   "outputs": [],
   "source": [
    "def load_glove_embeddings(file_path):\n",
    "    embeddings_index = {} \n",
    "    word_to_index = {}\n",
    "    index = 0\n",
    "\n",
    "    with open(file_path, encoding='utf-8') as f:\n",
    "        for line in f:\n",
    "            values = line.split()\n",
    "            word = values[0]\n",
    "            vector = np.asarray(values[1:], dtype='float32')\n",
    "            embeddings_index[word] = vector\n",
    "            word_to_index[word] = index\n",
    "            index += 1\n",
    "\n",
    "    return embeddings_index, word_to_index\n",
    "\n",
    "glove_file_path = 'glove.6B/glove.6B.100d.txt'\n",
    "glove_embeddings, word_to_index = load_glove_embeddings(glove_file_path)"
   ]
  },
  {
   "cell_type": "code",
   "execution_count": 7,
   "id": "d98d3569",
   "metadata": {},
   "outputs": [],
   "source": [
    "#SIMPLE: CONVERT TEXT TO NUMERICAL REPRESENTATIONS\n",
    "vectorised_text = []\n",
    "for text in text_values:\n",
    "    tokens = text.split()\n",
    "    vectors = [glove_embeddings.get(word, np.random.rand(100)) for word in tokens]\n",
    "    text_vector = np.mean(vectors, axis=0)\n",
    "    vectorised_text.append(text_vector)\n",
    "vectorised_text = np.array(vectorised_text)"
   ]
  },
  {
   "cell_type": "code",
   "execution_count": 11,
   "id": "29991f8a",
   "metadata": {},
   "outputs": [],
   "source": [
    "#TRAIN-TEST SPLIT\n",
    "X = vectorised_text\n",
    "Y = df['LABEL_ENCODED']\n",
    "\n",
    "X_train, X_test, Y_train, Y_test = train_test_split(\n",
    "    X, Y, test_size = 0.2, random_state = 42\n",
    ")"
   ]
  },
  {
   "cell_type": "code",
   "execution_count": 12,
   "id": "9372428f",
   "metadata": {},
   "outputs": [],
   "source": [
    "#TEST WITH LOGISTIC REGRESSION \n",
    "clf = LogisticRegression()\n",
    "clf.fit(X_train, Y_train)\n",
    "predictions = clf.predict(X_test)"
   ]
  },
  {
   "cell_type": "code",
   "execution_count": 16,
   "id": "7b2de410",
   "metadata": {},
   "outputs": [
    {
     "name": "stdout",
     "output_type": "stream",
     "text": [
      "              precision    recall  f1-score   support\n",
      "\n",
      "           0       0.59      0.60      0.60      2115\n",
      "           1       0.59      0.59      0.59      2085\n",
      "\n",
      "    accuracy                           0.59      4200\n",
      "   macro avg       0.59      0.59      0.59      4200\n",
      "weighted avg       0.59      0.59      0.59      4200\n",
      "\n"
     ]
    }
   ],
   "source": [
    "#PRINT REPORT\n",
    "print(classification_report(Y_test, predictions))"
   ]
  },
  {
   "cell_type": "code",
   "execution_count": null,
   "id": "d18db5fa",
   "metadata": {},
   "outputs": [],
   "source": []
  }
 ],
 "metadata": {
  "kernelspec": {
   "display_name": "Python 3 (ipykernel)",
   "language": "python",
   "name": "python3"
  },
  "language_info": {
   "codemirror_mode": {
    "name": "ipython",
    "version": 3
   },
   "file_extension": ".py",
   "mimetype": "text/x-python",
   "name": "python",
   "nbconvert_exporter": "python",
   "pygments_lexer": "ipython3",
   "version": "3.10.11"
  }
 },
 "nbformat": 4,
 "nbformat_minor": 5
}
