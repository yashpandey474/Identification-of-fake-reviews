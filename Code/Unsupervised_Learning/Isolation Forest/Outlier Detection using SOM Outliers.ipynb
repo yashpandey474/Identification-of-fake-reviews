{
 "cells": [
  {
   "cell_type": "code",
   "execution_count": 33,
   "id": "4fce9546",
   "metadata": {},
   "outputs": [],
   "source": [
    "import pandas as pd\n",
    "from sklearn.ensemble import IsolationForest\n",
    "from sklearn.metrics import precision_recall_fscore_support, classification_report, accuracy_score, confusion_matrix\n",
    "from sklearn.preprocessing import StandardScaler"
   ]
  },
  {
   "cell_type": "code",
   "execution_count": 2,
   "id": "7c50db61",
   "metadata": {},
   "outputs": [],
   "source": [
    "df = pd.read_csv(\"../Datasets/amazon_reviews_unlabelled.csv\")"
   ]
  },
  {
   "cell_type": "code",
   "execution_count": 5,
   "id": "c5a817cb",
   "metadata": {},
   "outputs": [
    {
     "data": {
      "text/plain": [
       "Index(['Unnamed: 0.4', 'Unnamed: 0.3', 'Unnamed: 0.2', 'Unnamed: 0.1',\n",
       "       'Unnamed: 0', 'UNNAMED: 0', 'REVIEW_TITLE', 'RATINGS', 'REVIEW',\n",
       "       'VERIFIED', 'USER_NAME', 'USER_ID', 'MAX_REVIEWS_DAY', 'HELPFUL_VOTES',\n",
       "       'PRODUCT', 'REVIEW_SENTIMENT', 'AVERAGE_RATING', 'RATING_DEVIATION',\n",
       "       'REVIEW_LENGTH', 'TITLE_LENGTH', 'TOTAL_USER_REVIEWS', 'DATETIME',\n",
       "       'REVIEW_DATE_DIFF', 'DATE', 'AVG_WORD_LENGTH', 'TOTAL_PRODUCT_REVIEWS',\n",
       "       'NUM_NOUNS', 'NUM_VERBS', 'NUM_ADJECTIVES', 'NUM_ADVERBS',\n",
       "       'READABILITY_FRE', 'CAPITAL_CHAR_COUNT', 'PUNCTUATION_COUNT',\n",
       "       'REVIEW_WORD_COUNT', 'SENTIMENT_SCORE_TITLE', 'NUM_NAMED_ENTITIES',\n",
       "       'LEXICAL_DIVERSITY', 'WORD_COUNT', 'RATING_CATEGORY',\n",
       "       'SENTIMENT_CATEGORY', 'COHERENCE', 'TOKENIZED_REVIEW', 'NGRAMS',\n",
       "       'TOTAL_VERIFIED_REVIEWS', 'TOTAL_USER_HELPFUL_VOTES',\n",
       "       'PREPROC_REVIEW_TEXT', 'COSINE_DUPLICATE', 'SOM OUTLIER'],\n",
       "      dtype='object')"
      ]
     },
     "execution_count": 5,
     "metadata": {},
     "output_type": "execute_result"
    }
   ],
   "source": [
    "df.columns"
   ]
  },
  {
   "cell_type": "code",
   "execution_count": 17,
   "id": "0727ea4a",
   "metadata": {},
   "outputs": [],
   "source": [
    "features = [\n",
    "    'RATINGS', \n",
    "       'VERIFIED',  'MAX_REVIEWS_DAY', 'HELPFUL_VOTES',\n",
    "       'REVIEW_SENTIMENT', 'AVERAGE_RATING', 'RATING_DEVIATION',\n",
    "       'REVIEW_LENGTH', 'TITLE_LENGTH', 'TOTAL_USER_REVIEWS',\n",
    "       'REVIEW_DATE_DIFF', 'AVG_WORD_LENGTH', 'TOTAL_PRODUCT_REVIEWS',\n",
    "       'READABILITY_FRE', 'CAPITAL_CHAR_COUNT', 'PUNCTUATION_COUNT',\n",
    "       'REVIEW_WORD_COUNT', 'SENTIMENT_SCORE_TITLE', 'NUM_NAMED_ENTITIES',\n",
    "       'LEXICAL_DIVERSITY', 'WORD_COUNT', 'RATING_CATEGORY',\n",
    "       'SENTIMENT_CATEGORY', 'COHERENCE', \n",
    "       'TOTAL_VERIFIED_REVIEWS', 'TOTAL_USER_HELPFUL_VOTES',\n",
    "       'COSINE_DUPLICATE', 'SOM OUTLIER'\n",
    "]"
   ]
  },
  {
   "cell_type": "code",
   "execution_count": 18,
   "id": "8a25ac8e",
   "metadata": {},
   "outputs": [],
   "source": [
    "X_train = df[df['SOM OUTLIER'] == 0] #USING NORMAL RECORDS FOR TRAINING"
   ]
  },
  {
   "cell_type": "code",
   "execution_count": 19,
   "id": "ec096301",
   "metadata": {},
   "outputs": [],
   "source": [
    "X_train = X_train[features]"
   ]
  },
  {
   "cell_type": "code",
   "execution_count": 20,
   "id": "9d393203",
   "metadata": {},
   "outputs": [],
   "source": [
    "X_test = df[df['SOM OUTLIER'] == 1]\n",
    "X_test = X_test[features]"
   ]
  },
  {
   "cell_type": "code",
   "execution_count": null,
   "id": "a5f4d9d0",
   "metadata": {},
   "outputs": [],
   "source": []
  },
  {
   "cell_type": "code",
   "execution_count": 21,
   "id": "cf37681b",
   "metadata": {},
   "outputs": [],
   "source": [
    "sc = StandardScaler()\n",
    "X_train = sc.fit_transform(X_train)\n",
    "X_test = sc.transform(X_test)"
   ]
  },
  {
   "cell_type": "code",
   "execution_count": 4,
   "id": "063722df",
   "metadata": {},
   "outputs": [],
   "source": [
    "isolation_forest = IsolationForest(n_estimators=100, contamination=0.05)"
   ]
  },
  {
   "cell_type": "code",
   "execution_count": 22,
   "id": "bf8cfd91",
   "metadata": {},
   "outputs": [
    {
     "data": {
      "text/html": [
       "<style>#sk-container-id-1 {color: black;background-color: white;}#sk-container-id-1 pre{padding: 0;}#sk-container-id-1 div.sk-toggleable {background-color: white;}#sk-container-id-1 label.sk-toggleable__label {cursor: pointer;display: block;width: 100%;margin-bottom: 0;padding: 0.3em;box-sizing: border-box;text-align: center;}#sk-container-id-1 label.sk-toggleable__label-arrow:before {content: \"▸\";float: left;margin-right: 0.25em;color: #696969;}#sk-container-id-1 label.sk-toggleable__label-arrow:hover:before {color: black;}#sk-container-id-1 div.sk-estimator:hover label.sk-toggleable__label-arrow:before {color: black;}#sk-container-id-1 div.sk-toggleable__content {max-height: 0;max-width: 0;overflow: hidden;text-align: left;background-color: #f0f8ff;}#sk-container-id-1 div.sk-toggleable__content pre {margin: 0.2em;color: black;border-radius: 0.25em;background-color: #f0f8ff;}#sk-container-id-1 input.sk-toggleable__control:checked~div.sk-toggleable__content {max-height: 200px;max-width: 100%;overflow: auto;}#sk-container-id-1 input.sk-toggleable__control:checked~label.sk-toggleable__label-arrow:before {content: \"▾\";}#sk-container-id-1 div.sk-estimator input.sk-toggleable__control:checked~label.sk-toggleable__label {background-color: #d4ebff;}#sk-container-id-1 div.sk-label input.sk-toggleable__control:checked~label.sk-toggleable__label {background-color: #d4ebff;}#sk-container-id-1 input.sk-hidden--visually {border: 0;clip: rect(1px 1px 1px 1px);clip: rect(1px, 1px, 1px, 1px);height: 1px;margin: -1px;overflow: hidden;padding: 0;position: absolute;width: 1px;}#sk-container-id-1 div.sk-estimator {font-family: monospace;background-color: #f0f8ff;border: 1px dotted black;border-radius: 0.25em;box-sizing: border-box;margin-bottom: 0.5em;}#sk-container-id-1 div.sk-estimator:hover {background-color: #d4ebff;}#sk-container-id-1 div.sk-parallel-item::after {content: \"\";width: 100%;border-bottom: 1px solid gray;flex-grow: 1;}#sk-container-id-1 div.sk-label:hover label.sk-toggleable__label {background-color: #d4ebff;}#sk-container-id-1 div.sk-serial::before {content: \"\";position: absolute;border-left: 1px solid gray;box-sizing: border-box;top: 0;bottom: 0;left: 50%;z-index: 0;}#sk-container-id-1 div.sk-serial {display: flex;flex-direction: column;align-items: center;background-color: white;padding-right: 0.2em;padding-left: 0.2em;position: relative;}#sk-container-id-1 div.sk-item {position: relative;z-index: 1;}#sk-container-id-1 div.sk-parallel {display: flex;align-items: stretch;justify-content: center;background-color: white;position: relative;}#sk-container-id-1 div.sk-item::before, #sk-container-id-1 div.sk-parallel-item::before {content: \"\";position: absolute;border-left: 1px solid gray;box-sizing: border-box;top: 0;bottom: 0;left: 50%;z-index: -1;}#sk-container-id-1 div.sk-parallel-item {display: flex;flex-direction: column;z-index: 1;position: relative;background-color: white;}#sk-container-id-1 div.sk-parallel-item:first-child::after {align-self: flex-end;width: 50%;}#sk-container-id-1 div.sk-parallel-item:last-child::after {align-self: flex-start;width: 50%;}#sk-container-id-1 div.sk-parallel-item:only-child::after {width: 0;}#sk-container-id-1 div.sk-dashed-wrapped {border: 1px dashed gray;margin: 0 0.4em 0.5em 0.4em;box-sizing: border-box;padding-bottom: 0.4em;background-color: white;}#sk-container-id-1 div.sk-label label {font-family: monospace;font-weight: bold;display: inline-block;line-height: 1.2em;}#sk-container-id-1 div.sk-label-container {text-align: center;}#sk-container-id-1 div.sk-container {/* jupyter's `normalize.less` sets `[hidden] { display: none; }` but bootstrap.min.css set `[hidden] { display: none !important; }` so we also need the `!important` here to be able to override the default hidden behavior on the sphinx rendered scikit-learn.org. See: https://github.com/scikit-learn/scikit-learn/issues/21755 */display: inline-block !important;position: relative;}#sk-container-id-1 div.sk-text-repr-fallback {display: none;}</style><div id=\"sk-container-id-1\" class=\"sk-top-container\"><div class=\"sk-text-repr-fallback\"><pre>IsolationForest(contamination=0.05)</pre><b>In a Jupyter environment, please rerun this cell to show the HTML representation or trust the notebook. <br />On GitHub, the HTML representation is unable to render, please try loading this page with nbviewer.org.</b></div><div class=\"sk-container\" hidden><div class=\"sk-item\"><div class=\"sk-estimator sk-toggleable\"><input class=\"sk-toggleable__control sk-hidden--visually\" id=\"sk-estimator-id-1\" type=\"checkbox\" checked><label for=\"sk-estimator-id-1\" class=\"sk-toggleable__label sk-toggleable__label-arrow\">IsolationForest</label><div class=\"sk-toggleable__content\"><pre>IsolationForest(contamination=0.05)</pre></div></div></div></div></div>"
      ],
      "text/plain": [
       "IsolationForest(contamination=0.05)"
      ]
     },
     "execution_count": 22,
     "metadata": {},
     "output_type": "execute_result"
    }
   ],
   "source": [
    "isolation_forest.fit(X_train)"
   ]
  },
  {
   "cell_type": "code",
   "execution_count": 23,
   "id": "0362790b",
   "metadata": {},
   "outputs": [],
   "source": [
    "predictions = isolation_forest.predict(X_test)"
   ]
  },
  {
   "cell_type": "code",
   "execution_count": 24,
   "id": "3af434a3",
   "metadata": {},
   "outputs": [
    {
     "data": {
      "text/plain": [
       "array([ 1,  1,  1,  1,  1,  1,  1,  1,  1,  1,  1, -1,  1, -1,  1,  1,  1,\n",
       "        1,  1,  1,  1, -1,  1, -1,  1, -1, -1,  1, -1,  1, -1,  1, -1, -1,\n",
       "       -1, -1,  1, -1,  1, -1,  1, -1,  1, -1, -1, -1,  1,  1, -1, -1,  1,\n",
       "        1,  1,  1,  1,  1,  1, -1,  1, -1,  1,  1,  1,  1,  1, -1,  1,  1,\n",
       "       -1, -1, -1,  1,  1,  1,  1,  1,  1,  1,  1,  1,  1,  1, -1, -1,  1,\n",
       "        1, -1,  1,  1,  1,  1,  1,  1,  1, -1,  1,  1,  1,  1, -1, -1, -1,\n",
       "        1, -1, -1, -1, -1,  1,  1,  1,  1,  1, -1,  1,  1, -1,  1,  1, -1,\n",
       "        1,  1,  1, -1, -1,  1,  1,  1,  1,  1,  1,  1,  1,  1,  1,  1, -1,\n",
       "        1,  1,  1,  1,  1,  1,  1,  1, -1,  1,  1,  1, -1,  1,  1, -1, -1,\n",
       "        1,  1,  1,  1,  1,  1, -1,  1, -1, -1, -1,  1,  1,  1,  1, -1, -1,\n",
       "        1,  1,  1,  1,  1,  1,  1,  1,  1,  1,  1,  1, -1, -1, -1,  1, -1,\n",
       "       -1,  1, -1,  1,  1, -1,  1,  1,  1,  1,  1,  1,  1, -1,  1,  1,  1,\n",
       "        1, -1,  1,  1,  1,  1, -1,  1, -1,  1,  1])"
      ]
     },
     "execution_count": 24,
     "metadata": {},
     "output_type": "execute_result"
    }
   ],
   "source": [
    "predictions"
   ]
  },
  {
   "cell_type": "code",
   "execution_count": 25,
   "id": "ef99ef04",
   "metadata": {},
   "outputs": [],
   "source": [
    "actual = df[df['SOM OUTLIER']==1]['SOM OUTLIER']"
   ]
  },
  {
   "cell_type": "code",
   "execution_count": 26,
   "id": "44921e0f",
   "metadata": {},
   "outputs": [
    {
     "data": {
      "text/plain": [
       "431     1.0\n",
       "483     1.0\n",
       "505     1.0\n",
       "512     1.0\n",
       "513     1.0\n",
       "       ... \n",
       "7306    1.0\n",
       "7307    1.0\n",
       "7308    1.0\n",
       "7311    1.0\n",
       "7312    1.0\n",
       "Name: SOM OUTLIER, Length: 215, dtype: float64"
      ]
     },
     "execution_count": 26,
     "metadata": {},
     "output_type": "execute_result"
    }
   ],
   "source": [
    "actual"
   ]
  },
  {
   "cell_type": "code",
   "execution_count": 41,
   "id": "0907102b",
   "metadata": {},
   "outputs": [
    {
     "name": "stdout",
     "output_type": "stream",
     "text": [
      "RECALL FOR PREDICTING OUTLIERS = [ 0.         70.23255814]% \n",
      "F1 SCORE FOR PREDICTING OUTLIERS = [ 0.        82.5136612]%\n"
     ]
    }
   ],
   "source": [
    "_, recall, f1, _ = precision_recall_fscore_support(actual, predictions, zero_division=0)\n",
    "print(f\"RECALL FOR PREDICTING OUTLIERS = {recall*100}% \\nF1 SCORE FOR PREDICTING OUTLIERS = {f1*100}%\")"
   ]
  },
  {
   "cell_type": "code",
   "execution_count": 32,
   "id": "01803306",
   "metadata": {},
   "outputs": [
    {
     "name": "stdout",
     "output_type": "stream",
     "text": [
      "[[  0   0]\n",
      " [ 64 151]]\n"
     ]
    }
   ],
   "source": [
    "print(confusion_matrix(actual, predictions))"
   ]
  },
  {
   "cell_type": "code",
   "execution_count": null,
   "id": "fb477cdf",
   "metadata": {},
   "outputs": [],
   "source": []
  }
 ],
 "metadata": {
  "kernelspec": {
   "display_name": "Python 3 (ipykernel)",
   "language": "python",
   "name": "python3"
  },
  "language_info": {
   "codemirror_mode": {
    "name": "ipython",
    "version": 3
   },
   "file_extension": ".py",
   "mimetype": "text/x-python",
   "name": "python",
   "nbconvert_exporter": "python",
   "pygments_lexer": "ipython3",
   "version": "3.10.11"
  }
 },
 "nbformat": 4,
 "nbformat_minor": 5
}
