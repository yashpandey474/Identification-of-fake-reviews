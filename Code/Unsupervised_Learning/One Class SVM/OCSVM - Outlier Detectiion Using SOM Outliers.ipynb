{
 "cells": [
  {
   "cell_type": "code",
   "execution_count": 15,
   "id": "9a18d287",
   "metadata": {},
   "outputs": [],
   "source": [
    "import time\n",
    "# SENTIMENT ANALYSIS USING VADER\n",
    "from sklearn.model_selection import train_test_split, cross_val_score\n",
    "from sklearn.metrics import accuracy_score, precision_score, f1_score, roc_auc_score, precision_score, recall_score, classification_report\n",
    "from sklearn.preprocessing import StandardScaler, MinMaxScaler\n",
    "from sklearn.svm import LinearSVC, SVC\n",
    "from gensim.models import Word2Vec\n",
    "from xgboost import XGBClassifier\n",
    "from lightgbm import LGBMClassifier\n",
    "from catboost import CatBoostClassifier\n",
    "from sklearn.neighbors import KNeighborsClassifier\n",
    "from sklearn.tree import DecisionTreeClassifier, ExtraTreeClassifier\n",
    "from sklearn.linear_model import RidgeClassifier, SGDClassifier, LogisticRegression\n",
    "from sklearn.ensemble import RandomForestClassifier, AdaBoostClassifier, BaggingClassifier\n",
    "from sklearn.naive_bayes import BernoulliNB, MultinomialNB\n",
    "from sklearn.feature_extraction.text import TfidfVectorizer\n",
    "from sklearn.decomposition import PCA\n",
    "import pandas as pd\n",
    "import numpy as np\n",
    "import os\n",
    "from collections import Counter\n",
    "import matplotlib.pyplot as plt\n",
    "from sklearn.svm import OneClassSVM\n",
    "from sklearn.model_selection import train_test_split\n",
    "from sklearn.metrics import classification_report"
   ]
  },
  {
   "cell_type": "code",
   "execution_count": 3,
   "id": "3d7130ba",
   "metadata": {},
   "outputs": [],
   "source": [
    "df = pd.read_csv(\"../Datasets/amazon_reviews_unlabelled.csv\")"
   ]
  },
  {
   "cell_type": "code",
   "execution_count": 4,
   "id": "8a31e244",
   "metadata": {},
   "outputs": [
    {
     "data": {
      "text/plain": [
       "Index(['Unnamed: 0.4', 'Unnamed: 0.3', 'Unnamed: 0.2', 'Unnamed: 0.1',\n",
       "       'Unnamed: 0', 'UNNAMED: 0', 'REVIEW_TITLE', 'RATINGS', 'REVIEW',\n",
       "       'VERIFIED', 'USER_NAME', 'USER_ID', 'MAX_REVIEWS_DAY', 'HELPFUL_VOTES',\n",
       "       'PRODUCT', 'REVIEW_SENTIMENT', 'AVERAGE_RATING', 'RATING_DEVIATION',\n",
       "       'REVIEW_LENGTH', 'TITLE_LENGTH', 'TOTAL_USER_REVIEWS', 'DATETIME',\n",
       "       'REVIEW_DATE_DIFF', 'DATE', 'AVG_WORD_LENGTH', 'TOTAL_PRODUCT_REVIEWS',\n",
       "       'NUM_NOUNS', 'NUM_VERBS', 'NUM_ADJECTIVES', 'NUM_ADVERBS',\n",
       "       'READABILITY_FRE', 'CAPITAL_CHAR_COUNT', 'PUNCTUATION_COUNT',\n",
       "       'REVIEW_WORD_COUNT', 'SENTIMENT_SCORE_TITLE', 'NUM_NAMED_ENTITIES',\n",
       "       'LEXICAL_DIVERSITY', 'WORD_COUNT', 'RATING_CATEGORY',\n",
       "       'SENTIMENT_CATEGORY', 'COHERENCE', 'TOKENIZED_REVIEW', 'NGRAMS',\n",
       "       'TOTAL_VERIFIED_REVIEWS', 'TOTAL_USER_HELPFUL_VOTES',\n",
       "       'PREPROC_REVIEW_TEXT', 'COSINE_DUPLICATE', 'SOM OUTLIER'],\n",
       "      dtype='object')"
      ]
     },
     "execution_count": 4,
     "metadata": {},
     "output_type": "execute_result"
    }
   ],
   "source": [
    "df.columns"
   ]
  },
  {
   "cell_type": "code",
   "execution_count": 5,
   "id": "048f5d13",
   "metadata": {},
   "outputs": [
    {
     "data": {
      "text/plain": [
       "SOM OUTLIER\n",
       "0.0    7104\n",
       "1.0     215\n",
       "Name: count, dtype: int64"
      ]
     },
     "execution_count": 5,
     "metadata": {},
     "output_type": "execute_result"
    }
   ],
   "source": [
    "df['SOM OUTLIER'].value_counts()"
   ]
  },
  {
   "cell_type": "code",
   "execution_count": 6,
   "id": "cc62b54d",
   "metadata": {},
   "outputs": [],
   "source": [
    "#PERCENTAGE OF OUTLIERS\n",
    "percent_outliers = (215*100)/(215+7104)"
   ]
  },
  {
   "cell_type": "code",
   "execution_count": 7,
   "id": "3f961c64",
   "metadata": {},
   "outputs": [
    {
     "data": {
      "text/plain": [
       "2.937559775925673"
      ]
     },
     "execution_count": 7,
     "metadata": {},
     "output_type": "execute_result"
    }
   ],
   "source": [
    "percent_outliers"
   ]
  },
  {
   "cell_type": "code",
   "execution_count": 30,
   "id": "eca97059",
   "metadata": {},
   "outputs": [],
   "source": [
    "X_text = df['PREPROC_REVIEW_TEXT']\n",
    "X_numeric = df[[\n",
    "    'RATINGS', \n",
    "       'VERIFIED', 'MAX_REVIEWS_DAY', 'HELPFUL_VOTES',\n",
    "       'REVIEW_SENTIMENT', 'AVERAGE_RATING', 'RATING_DEVIATION',\n",
    "       'REVIEW_LENGTH', 'TITLE_LENGTH', 'TOTAL_USER_REVIEWS',\n",
    "       'REVIEW_DATE_DIFF', 'AVG_WORD_LENGTH', 'TOTAL_PRODUCT_REVIEWS',\n",
    "       'READABILITY_FRE', 'CAPITAL_CHAR_COUNT', 'PUNCTUATION_COUNT',\n",
    "       'REVIEW_WORD_COUNT', 'SENTIMENT_SCORE_TITLE', 'NUM_NAMED_ENTITIES',\n",
    "       'LEXICAL_DIVERSITY', 'WORD_COUNT', 'RATING_CATEGORY',\n",
    "       'SENTIMENT_CATEGORY', 'COHERENCE',\n",
    "       'TOTAL_VERIFIED_REVIEWS', 'TOTAL_USER_HELPFUL_VOTES',\n",
    "       'COSINE_DUPLICATE'\n",
    "]]\n",
    "labels = df['SOM OUTLIER']"
   ]
  },
  {
   "cell_type": "code",
   "execution_count": 31,
   "id": "54d7e1d9",
   "metadata": {},
   "outputs": [],
   "source": [
    "# TRAIN-TEST SPLIT\n",
    "X_text_train, X_text_test, X_numeric_train, X_numeric_test, y_train, y_test = train_test_split(\n",
    "    X_text, X_numeric, labels, test_size=0.2, random_state=42\n",
    ")"
   ]
  },
  {
   "cell_type": "code",
   "execution_count": 32,
   "id": "ddb54b5e",
   "metadata": {},
   "outputs": [],
   "source": [
    "def vectorize_text(X_text_train, X_text_test):\n",
    "    #TOKENIZE THE TEXT\n",
    "    tokenized_text_train = [t.split() for t in X_text_train]\n",
    "    tokenized_text_test = [t.split() for t in X_text_test]\n",
    "    \n",
    "    #LOAD PRE-TRAINED WORD2VEC MODEL\n",
    "    model_path = \"word2vec_model.bin\"\n",
    "    if os.path.isfile(model_path):\n",
    "        w2v_model = Word2Vec.load(model_path)\n",
    "    \n",
    "    else:\n",
    "        #TRAIN THE WORD2VEC MODEL\n",
    "        w2v_model = Word2Vec(sentences=tokenized_text_train,vector_size=100,window=5,min_count=1)\n",
    "        #SAVE THE MODEL\n",
    "        w2v_model.save(\"word2vec_model.bin\")\n",
    "        \n",
    "    #W2V VECTORISATION\n",
    "    w2v_vectors_train = []\n",
    "    \n",
    "    for review in tokenized_text_train:\n",
    "        review_vectors = [w2v_model.wv[word] for word in review if word in w2v_model.wv]\n",
    "        \n",
    "        #AVERAGE METHOD\n",
    "        if len(review_vectors) > 0:\n",
    "            review_vector = np.mean(review_vectors, axis=0)  # Average the word vectors\n",
    "            w2v_vectors_train.append(review_vector)\n",
    "            \n",
    "    #W2V VECTORISATION\n",
    "    w2v_vectors_test = []\n",
    "    \n",
    "    for review in tokenized_text_test:\n",
    "        review_vectors = [w2v_model.wv[word] for word in review if word in w2v_model.wv]\n",
    "        \n",
    "        #AVERAGE METHOD\n",
    "        if len(review_vectors) > 0:\n",
    "            review_vector = np.mean(review_vectors, axis=0)  # Average the word vectors\n",
    "            w2v_vectors_test.append(review_vector)\n",
    "    final_vectors_train = w2v_vectors_train\n",
    "    final_vectors_test = w2v_vectors_test\n",
    "        \n",
    "    return final_vectors_train, final_vectors_test"
   ]
  },
  {
   "cell_type": "code",
   "execution_count": 33,
   "id": "a53c7548",
   "metadata": {},
   "outputs": [],
   "source": [
    "X_text_train, X_text_test = vectorize_text(X_text_train, X_text_test)"
   ]
  },
  {
   "cell_type": "code",
   "execution_count": 34,
   "id": "cf319099",
   "metadata": {},
   "outputs": [],
   "source": [
    "#APPLY FEATURE SCALING TO MATRICES\n",
    "sc_numeric = StandardScaler()\n",
    "X_numeric_train = sc_numeric.fit_transform(X_numeric_train)\n",
    "X_numeric_test = sc_numeric.transform(X_numeric_test)\n",
    "\n",
    "sc_text= StandardScaler()\n",
    "X_text_train = sc_text.fit_transform(X_text_train)\n",
    "X_text_test = sc_text.transform(X_text_test)"
   ]
  },
  {
   "cell_type": "code",
   "execution_count": 35,
   "id": "cda5f43d",
   "metadata": {},
   "outputs": [],
   "source": [
    "#CONCATENATE THE TEXTUAL FEATURE AND NUMERIC FEATURE MATRIX\n",
    "X_train = np.hstack((X_text_train, X_numeric_train))\n",
    "X_test = np.hstack((X_text_test, X_numeric_test))"
   ]
  },
  {
   "cell_type": "code",
   "execution_count": 37,
   "id": "c14058b2",
   "metadata": {},
   "outputs": [],
   "source": [
    "one_class_svm = OneClassSVM(nu=percent_outliers/100, kernel = 'rbf', gamma = 'auto').fit(X_train)"
   ]
  },
  {
   "cell_type": "code",
   "execution_count": 38,
   "id": "c5c7d8bb",
   "metadata": {},
   "outputs": [],
   "source": [
    "prediction = one_class_svm.predict(X_test)"
   ]
  },
  {
   "cell_type": "code",
   "execution_count": 39,
   "id": "314f20bc",
   "metadata": {},
   "outputs": [
    {
     "data": {
      "text/plain": [
       "array([1, 1, 1, ..., 1, 1, 1])"
      ]
     },
     "execution_count": 39,
     "metadata": {},
     "output_type": "execute_result"
    }
   ],
   "source": [
    "prediction"
   ]
  },
  {
   "cell_type": "code",
   "execution_count": 44,
   "id": "6e80fce1",
   "metadata": {},
   "outputs": [],
   "source": [
    "prediction = [1 if i==-1 else 0 for i in prediction]\n"
   ]
  },
  {
   "cell_type": "code",
   "execution_count": 45,
   "id": "b3e3ea69",
   "metadata": {},
   "outputs": [
    {
     "name": "stdout",
     "output_type": "stream",
     "text": [
      "              precision    recall  f1-score   support\n",
      "\n",
      "         0.0       0.98      0.97      0.97      1430\n",
      "         1.0       0.06      0.09      0.07        34\n",
      "\n",
      "    accuracy                           0.95      1464\n",
      "   macro avg       0.52      0.53      0.52      1464\n",
      "weighted avg       0.96      0.95      0.95      1464\n",
      "\n"
     ]
    }
   ],
   "source": [
    "print(classification_report (y_test, prediction))"
   ]
  },
  {
   "cell_type": "code",
   "execution_count": null,
   "id": "207ee403",
   "metadata": {},
   "outputs": [],
   "source": []
  }
 ],
 "metadata": {
  "kernelspec": {
   "display_name": "Python 3 (ipykernel)",
   "language": "python",
   "name": "python3"
  },
  "language_info": {
   "codemirror_mode": {
    "name": "ipython",
    "version": 3
   },
   "file_extension": ".py",
   "mimetype": "text/x-python",
   "name": "python",
   "nbconvert_exporter": "python",
   "pygments_lexer": "ipython3",
   "version": "3.10.11"
  }
 },
 "nbformat": 4,
 "nbformat_minor": 5
}
