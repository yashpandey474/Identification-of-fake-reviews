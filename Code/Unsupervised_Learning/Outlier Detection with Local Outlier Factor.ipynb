{
 "cells": [
  {
   "cell_type": "code",
   "execution_count": 19,
   "id": "71dfab70",
   "metadata": {},
   "outputs": [],
   "source": [
    "import pandas as pd\n",
    "import numpy as np\n",
    "from scipy import sparse\n",
    "from scipy.sparse import hstack\n",
    "from sklearn.neighbors import LocalOutlierFactor\n",
    "from sklearn.feature_extraction.text import TfidfVectorizer\n",
    "from sklearn.preprocessing import StandardScaler"
   ]
  },
  {
   "cell_type": "code",
   "execution_count": 2,
   "id": "58e80d3a",
   "metadata": {},
   "outputs": [],
   "source": [
    "df = pd.read_csv(\"../Datasets/amazon_reviews_unlabelled.csv\")"
   ]
  },
  {
   "cell_type": "code",
   "execution_count": 3,
   "id": "191b67f9",
   "metadata": {},
   "outputs": [],
   "source": [
    "lof = LocalOutlierFactor(n_neighbors=20, contamination='auto')"
   ]
  },
  {
   "cell_type": "code",
   "execution_count": 5,
   "id": "8b10ce2e",
   "metadata": {},
   "outputs": [],
   "source": [
    "#FEATURES\n",
    "features_text = df['PREPROC_REVIEW_TEXT']\n",
    "features_numeric = df[\n",
    "    [\n",
    "    'RATINGS',\n",
    "    'VERIFIED',  'MAX_REVIEWS_DAY',\n",
    "    'HELPFUL_VOTES','REVIEW_SENTIMENT', 'AVERAGE_RATING',\n",
    "    'RATING_DEVIATION', 'REVIEW_LENGTH', 'TITLE_LENGTH',\n",
    "    'TOTAL_USER_REVIEWS',  'REVIEW_DATE_DIFF',\n",
    "       'AVG_WORD_LENGTH', 'TOTAL_PRODUCT_REVIEWS', 'READABILITY_FRE',\n",
    "       'CAPITAL_CHAR_COUNT', 'PUNCTUATION_COUNT', 'REVIEW_WORD_COUNT',\n",
    "       'SENTIMENT_SCORE_TITLE', 'NUM_NAMED_ENTITIES', 'LEXICAL_DIVERSITY',\n",
    "       'WORD_COUNT', 'RATING_CATEGORY', 'SENTIMENT_CATEGORY', 'COHERENCE',\n",
    "        'TOTAL_VERIFIED_REVIEWS',\n",
    "       'TOTAL_USER_HELPFUL_VOTES'\n",
    "]\n",
    "]"
   ]
  },
  {
   "cell_type": "code",
   "execution_count": 7,
   "id": "7b5dc892",
   "metadata": {},
   "outputs": [],
   "source": [
    "vect = TfidfVectorizer()\n",
    "features_text = vect.fit_transform(features_text)"
   ]
  },
  {
   "cell_type": "code",
   "execution_count": 11,
   "id": "aafeb7fd",
   "metadata": {},
   "outputs": [],
   "source": [
    "sc_numeric = StandardScaler()\n",
    "features_numeric = sc_numeric.fit_transform(features_numeric)"
   ]
  },
  {
   "cell_type": "code",
   "execution_count": 20,
   "id": "5fc6560e",
   "metadata": {},
   "outputs": [],
   "source": [
    "features_numeric_sparse = sparse.csr_matrix(features_numeric)"
   ]
  },
  {
   "cell_type": "code",
   "execution_count": 21,
   "id": "ece994d7",
   "metadata": {},
   "outputs": [],
   "source": [
    "features_combined = hstack((features_numeric_sparse, features_text))"
   ]
  },
  {
   "cell_type": "code",
   "execution_count": 23,
   "id": "93f0d719",
   "metadata": {},
   "outputs": [],
   "source": [
    "outlier_scores = lof.fit_predict(features_combined)"
   ]
  },
  {
   "cell_type": "code",
   "execution_count": 28,
   "id": "3e7e3688",
   "metadata": {},
   "outputs": [],
   "source": [
    "df['LOF OUTLIER'] = np.where(outlier_scores == -1, 1, 0)"
   ]
  },
  {
   "cell_type": "code",
   "execution_count": 29,
   "id": "63896b1b",
   "metadata": {
    "scrolled": true
   },
   "outputs": [
    {
     "data": {
      "text/plain": [
       "LOF OUTLIER\n",
       "0    7144\n",
       "1     175\n",
       "Name: count, dtype: int64"
      ]
     },
     "execution_count": 29,
     "metadata": {},
     "output_type": "execute_result"
    }
   ],
   "source": [
    "df['LOF OUTLIER'].value_counts()"
   ]
  },
  {
   "cell_type": "code",
   "execution_count": 30,
   "id": "86a00e10",
   "metadata": {},
   "outputs": [],
   "source": [
    "df.to_csv(\"../Datasets/amazon_reviews_unlabelled.csv\")"
   ]
  },
  {
   "cell_type": "code",
   "execution_count": null,
   "id": "8d4b18c9",
   "metadata": {},
   "outputs": [],
   "source": []
  }
 ],
 "metadata": {
  "kernelspec": {
   "display_name": "Python 3 (ipykernel)",
   "language": "python",
   "name": "python3"
  },
  "language_info": {
   "codemirror_mode": {
    "name": "ipython",
    "version": 3
   },
   "file_extension": ".py",
   "mimetype": "text/x-python",
   "name": "python",
   "nbconvert_exporter": "python",
   "pygments_lexer": "ipython3",
   "version": "3.10.11"
  }
 },
 "nbformat": 4,
 "nbformat_minor": 5
}
