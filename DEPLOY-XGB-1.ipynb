{
 "cells": [
  {
   "cell_type": "code",
   "execution_count": null,
   "id": "4f14dfd9-49c6-4f8b-8237-2c0a6e7dd149",
   "metadata": {},
   "outputs": [],
   "source": [
    "import pandas as pd\n",
    "import boto3\n",
    "import sagemaker\n",
    "import json\n",
    "import joblib\n",
    "import xgboost as xgb\n",
    "from sklearn.metrics import roc_auc_score"
   ]
  },
  {
   "cell_type": "code",
   "execution_count": null,
   "id": "13873d88-9135-43bf-9091-67a1dd4bbb6c",
   "metadata": {},
   "outputs": [],
   "source": [
    "# Set SageMaker and S3 client variables\n",
    "sess = sagemaker.Session()\n",
    "region = sess.boto_region_name\n",
    "s3_client = boto3.client(\"s3\", region_name=region)\n",
    "sagemaker_role = sagemaker.get_execution_role()"
   ]
  },
  {
   "cell_type": "code",
   "execution_count": null,
   "id": "3e681f1d-05e0-4197-851f-de744e9d0571",
   "metadata": {},
   "outputs": [],
   "source": [
    "# Set read and write S3 buckets and locations\n",
    "write_bucket = sess.default_bucket()\n",
    "read_bucket = sess.default_bucket()\n",
    "\n",
    "train_data_key = f\"train.csv\"\n",
    "test_data_key = f\"test.csv\"\n",
    "model_key = f\"model\"\n",
    "output_key = f\"output\"\n",
    "\n",
    "train_data_uri = f\"s3://{read_bucket}/{train_data_key}\"\n",
    "test_data_uri = f\"s3://{read_bucket}/{test_data_key}\""
   ]
  },
  {
   "cell_type": "code",
   "execution_count": null,
   "id": "8031a3ce-9e72-4a06-8b37-e92c0aafd80b",
   "metadata": {},
   "outputs": [],
   "source": [
    "#MODEL PARAMETERS\n",
    "hyperparams = {\n",
    "                \"max_depth\": 3,\n",
    "                \"eta\": 0.2,\n",
    "                \"objective\": \"binary:logistic\",\n",
    "                \"subsample\" : 0.8,\n",
    "                \"colsample_bytree\" : 0.8,\n",
    "                \"min_child_weight\" : 3\n",
    "              }\n",
    "\n",
    "num_boost_round = 100\n",
    "nfold = 3\n",
    "early_stopping_rounds = 10"
   ]
  },
  {
   "cell_type": "code",
   "execution_count": null,
   "id": "2afe6782-a431-45d9-bb2b-f21ad8a04329",
   "metadata": {},
   "outputs": [],
   "source": [
    "# Set up data input\n",
    "label_col = \"LABEL_ENCODED\"\n",
    "data = pd.read_csv(train_data_uri)\n",
    "del data['Unnamed: 0']"
   ]
  },
  {
   "cell_type": "code",
   "execution_count": null,
   "id": "0c6ee590-66de-4021-950c-8489c9b88036",
   "metadata": {},
   "outputs": [],
   "source": [
    "# Recolumnstraining data and target\n",
    "train_features = data.drop(label_col, axis=1)\n",
    "train_label = pd.DataFrame(data[label_col])\n",
    "dtrain = xgb.DMatrix(train_features, label=train_label)"
   ]
  },
  {
   "cell_type": "code",
   "execution_count": null,
   "id": "a86e91cf-9c7c-4751-bc32-da2e89a67a7c",
   "metadata": {},
   "outputs": [],
   "source": [
    "#TRAIN THE MODEL\n",
    "model = (xgb.train(params=hyperparams, dtrain=dtrain, evals = [(dtrain,'train'), (dtest,'eval')], num_boost_round=num_boost_round, \n",
    "                  early_stopping_rounds=early_stopping_rounds, verbose_eval = 0)\n",
    "        )"
   ]
  },
  {
   "cell_type": "code",
   "execution_count": null,
   "id": "02ffcd75-5811-4ea4-91ee-4180f13a5732",
   "metadata": {},
   "outputs": [],
   "source": [
    "#DEPLOY THE MODEL\n",
    "xgb_predictor = xgb.deploy(\n",
    "    initial_instance_count= 1,\n",
    "    instance_type = \"ml.m4.xlarge\",\n",
    "    serializer=CSVSerializer()\n",
    "    )"
   ]
  }
 ],
 "metadata": {
  "kernelspec": {
   "display_name": "",
   "name": ""
  },
  "language_info": {
   "name": ""
  }
 },
 "nbformat": 4,
 "nbformat_minor": 5
}
