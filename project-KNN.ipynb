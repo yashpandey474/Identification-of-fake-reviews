{
 "cells": [
  {
   "cell_type": "code",
   "execution_count": 62,
   "id": "8dc59d39",
   "metadata": {},
   "outputs": [
    {
     "name": "stderr",
     "output_type": "stream",
     "text": [
      "/Users/kpandey/anaconda3/envs/nlp_course/lib/python3.7/importlib/_bootstrap.py:219: RuntimeWarning: numpy.ufunc size changed, may indicate binary incompatibility. Expected 192 from C header, got 216 from PyObject\n",
      "  return f(*args, **kwds)\n"
     ]
    }
   ],
   "source": [
    "from sklearn.neighbors import KNeighborsClassifier\n",
    "from sklearn.model_selection import train_test_split\n",
    "from sklearn.metrics import classification_report, accuracy_score\n",
    "from sklearn.compose import ColumnTransformer\n",
    "\n",
    "from sklearn.ensemble import RandomForestClassifier, RandomForestRegressor, GradientBoostingClassifier, GradientBoostingRegressor\n",
    "\n",
    "import numpy as np\n",
    "import pandas as pd\n",
    "\n",
    "from scipy import sparse"
   ]
  },
  {
   "cell_type": "code",
   "execution_count": 12,
   "id": "1c1d2888",
   "metadata": {},
   "outputs": [
    {
     "name": "stderr",
     "output_type": "stream",
     "text": [
      "/Users/kpandey/anaconda3/envs/nlp_course/lib/python3.7/importlib/_bootstrap.py:219: RuntimeWarning: numpy.ufunc size changed, may indicate binary incompatibility. Expected 192 from C header, got 216 from PyObject\n",
      "  return f(*args, **kwds)\n",
      "/Users/kpandey/anaconda3/envs/nlp_course/lib/python3.7/site-packages/nltk/twitter/__init__.py:20: UserWarning: The twython library has not been installed. Some functionality from the twitter package will not be available.\n",
      "  warnings.warn(\"The twython library has not been installed. \"\n"
     ]
    }
   ],
   "source": [
    "#IMPORT MODULES\n",
    "from sklearn.feature_extraction.text import TfidfVectorizer\n",
    "from sklearn.pipeline import Pipeline, FeatureUnion\n",
    "from sklearn.model_selection import train_test_split\n",
    "from sklearn.svm import LinearSVC\n",
    "from sklearn.linear_model import LogisticRegression\n",
    "from sklearn.preprocessing import MinMaxScaler, StandardScaler, LabelEncoder, FunctionTransformer\n",
    "from sklearn.metrics import classification_report, confusion_matrix, accuracy_score\n",
    "from nltk.sentiment.vader import SentimentIntensityAnalyzer\n",
    "from sklearn.metrics.pairwise import cosine_similarity\n",
    "from sklearn.cluster import KMeans"
   ]
  },
  {
   "cell_type": "code",
   "execution_count": 5,
   "id": "d7631f20",
   "metadata": {},
   "outputs": [],
   "source": [
    "#GET THE DATAFRAME\n",
    "df = pd.read_csv('amazon_reviews.tsv', sep = '\\t')"
   ]
  },
  {
   "cell_type": "code",
   "execution_count": 6,
   "id": "2f306c83",
   "metadata": {},
   "outputs": [
    {
     "data": {
      "text/plain": [
       "Index(['eDOC_ID', 'LABEL', 'RATING', 'VERIFIED_PURCHASE', 'PRODUCT_CATEGORY',\n",
       "       'PRODUCT_ID', 'PRODUCT_TITLE', 'REVIEW_TITLE', 'REVIEW_TEXT',\n",
       "       'POS_COUNTS', 'NUM NOUNS', 'NUM VERBS', 'NUM ADJECTIVES', 'NUM ADVERBS',\n",
       "       'REVIEW_LENGTH', 'SENTIMENT SCORE'],\n",
       "      dtype='object')"
      ]
     },
     "execution_count": 6,
     "metadata": {},
     "output_type": "execute_result"
    }
   ],
   "source": [
    "df.columns"
   ]
  },
  {
   "cell_type": "code",
   "execution_count": 7,
   "id": "09b1ec3f",
   "metadata": {},
   "outputs": [],
   "source": [
    "#RENAME COLUMNS\n",
    "df.rename(columns={'NUM NOUNS':'NUM_NOUNS'}, inplace=True)\n",
    "df.rename(columns={'NUM VERBS':'NUM_VERBS'}, inplace=True)\n",
    "df.rename(columns={'NUM ADJECTIVES':'NUM_ADJECTIVES'}, inplace=True)\n",
    "df.rename(columns={'NUM ADVERBS':'NUM_ADVERBS'}, inplace=True)\n",
    "df.rename(columns={'SENTIMENT SCORE':'SENTIMENT_SCORE'}, inplace=True)"
   ]
  },
  {
   "cell_type": "code",
   "execution_count": 20,
   "id": "9aa7b811",
   "metadata": {},
   "outputs": [],
   "source": [
    "#ADD A TITLE LENGTH COLUMN\n",
    "df['TITLE_LENGTH'] = df['REVIEW_TITLE'].apply(lambda d: len(d))\n",
    "\n",
    "#ADD AN AVERAGE-RATING COLUMN\n",
    "average_ratings = df.groupby('PRODUCT_ID')['RATING'].mean()\n",
    "\n",
    "df['AVERAGE_RATING'] = df['PRODUCT_ID'].map(average_ratings)\n",
    "\n",
    "#ADD A RATING DEVIATION COLUMN\n",
    "df['RATING_DEVIATION'] = df['RATING']-df['AVERAGE_RATING']\n",
    "\n",
    "\n",
    "#ADD A NUMBER OF REVIEWS COLUMN\n",
    "num_reviews = df.groupby('PRODUCT_ID').size()\n",
    "\n",
    "df['NUM_REVIEWS'] = df['PRODUCT_ID'].map(num_reviews)"
   ]
  },
  {
   "cell_type": "code",
   "execution_count": 85,
   "id": "abd61f36",
   "metadata": {},
   "outputs": [],
   "source": [
    "#SAVE AS CSV FILE\n",
    "df.to_csv('amazon_reviews3.tsv', sep='\\t')"
   ]
  },
  {
   "cell_type": "code",
   "execution_count": 44,
   "id": "03c688c9",
   "metadata": {},
   "outputs": [
    {
     "data": {
      "text/plain": [
       "21000"
      ]
     },
     "execution_count": 44,
     "metadata": {},
     "output_type": "execute_result"
    }
   ],
   "source": [
    "df['VERIFIED_PURCHASE'].value_counts()\n",
    "len(df['REVIEW_TEXT'].tolist())"
   ]
  },
  {
   "cell_type": "code",
   "execution_count": 54,
   "id": "6c0f6b8a",
   "metadata": {},
   "outputs": [],
   "source": [
    "#X -> FEATURE\n",
    "features = ['RATING', 'VERIFIED_PURCHASE', 'NUM_NOUNS', 'NUM_VERBS', \n",
    "            'NUM_ADJECTIVES', 'NUM_ADVERBS','SENTIMENT_SCORE', 'TITLE_LENGTH', 'REVIEW_LENGTH','RATING_DEVIATION']\n",
    "\n",
    "text_columns = ['REVIEW_TEXT', 'REVIEW_TITLE']\n",
    "numeric_columns = ['RATING','VERIFIED_PURCHASE', 'SENTIMENT_SCORE',\n",
    "                  'REVIEW_LENGTH', 'TITLE_LENGTH', 'NUM_NOUNS',\n",
    "                  'NUM_ADJECTIVES','NUM_ADVERBS','NUM_VERBS',\n",
    "                   'RATING_DEVIATION', 'VERIFIED_PURCHASE'\n",
    "                  ]\n",
    "\n",
    "X = df[features]\n",
    "Y = df['LABEL']"
   ]
  },
  {
   "cell_type": "code",
   "execution_count": null,
   "id": "e2274e5c",
   "metadata": {},
   "outputs": [],
   "source": [
    "\n"
   ]
  },
  {
   "cell_type": "code",
   "execution_count": 55,
   "id": "2337c362",
   "metadata": {},
   "outputs": [],
   "source": [
    "#TRAIN-TEST SPLIT\n",
    "X_TRAIN, X_TEST, Y_TRAIN, Y_TEST = train_test_split(X, Y, test_size = 0.2, random_state = 42)"
   ]
  },
  {
   "cell_type": "code",
   "execution_count": 69,
   "id": "83f0d432",
   "metadata": {},
   "outputs": [
    {
     "data": {
      "text/plain": [
       "RandomForestClassifier(bootstrap=True, class_weight=None, criterion='gini',\n",
       "            max_depth=None, max_features='auto', max_leaf_nodes=None,\n",
       "            min_impurity_decrease=0.0, min_impurity_split=None,\n",
       "            min_samples_leaf=1, min_samples_split=2,\n",
       "            min_weight_fraction_leaf=0.0, n_estimators=50, n_jobs=None,\n",
       "            oob_score=False, random_state=None, verbose=0,\n",
       "            warm_start=False)"
      ]
     },
     "execution_count": 69,
     "metadata": {},
     "output_type": "execute_result"
    }
   ],
   "source": [
    "# Fit and transform the training data\n",
    "# Create the KNN classifier\n",
    "knn = K(n_estimators=50)\n",
    "\n",
    "knn.fit(X_TRAIN, Y_TRAIN)\n"
   ]
  },
  {
   "cell_type": "code",
   "execution_count": 70,
   "id": "28ff2941",
   "metadata": {},
   "outputs": [],
   "source": [
    "predictions = knn.predict(X_TEST)"
   ]
  },
  {
   "cell_type": "code",
   "execution_count": 71,
   "id": "88475706",
   "metadata": {},
   "outputs": [
    {
     "name": "stdout",
     "output_type": "stream",
     "text": [
      "              precision    recall  f1-score   support\n",
      "\n",
      "        Fake       0.82      0.74      0.77      2115\n",
      "    Not Fake       0.76      0.83      0.79      2085\n",
      "\n",
      "   micro avg       0.78      0.78      0.78      4200\n",
      "   macro avg       0.79      0.78      0.78      4200\n",
      "weighted avg       0.79      0.78      0.78      4200\n",
      "\n"
     ]
    }
   ],
   "source": [
    "print(classification_report(Y_TEST, predictions))"
   ]
  },
  {
   "cell_type": "code",
   "execution_count": null,
   "id": "1bb0e3d5",
   "metadata": {},
   "outputs": [],
   "source": []
  },
  {
   "cell_type": "code",
   "execution_count": 72,
   "id": "7d62674f",
   "metadata": {},
   "outputs": [],
   "source": [
    "#HYPERPARAMETER TUNING TO FIND MOST EFFICIENT ARGUMENT FOR KNN\n",
    "from sklearn.model_selection import GridSearchCV"
   ]
  },
  {
   "cell_type": "code",
   "execution_count": 73,
   "id": "0429c05c",
   "metadata": {},
   "outputs": [],
   "source": [
    "#RANGE TO SEARCH FOR VALUE OF K\n",
    "param_grid = {'n_neighbors': range(1,25)}"
   ]
  },
  {
   "cell_type": "code",
   "execution_count": 74,
   "id": "38eb194f",
   "metadata": {},
   "outputs": [],
   "source": [
    "#KNN CLASSIFIER\n",
    "knn_classifier = KNeighborsClassifier()"
   ]
  },
  {
   "cell_type": "code",
   "execution_count": 75,
   "id": "4fba8312",
   "metadata": {},
   "outputs": [],
   "source": [
    "#GRID SEARCH OVER THE PARAMETER RANGE [cross-validation]\n",
    "grid_search = GridSearchCV(knn_classifier, param_grid, cv=5)"
   ]
  },
  {
   "cell_type": "code",
   "execution_count": 76,
   "id": "9b009447",
   "metadata": {},
   "outputs": [
    {
     "data": {
      "text/plain": [
       "GridSearchCV(cv=5, error_score='raise-deprecating',\n",
       "       estimator=KNeighborsClassifier(algorithm='auto', leaf_size=30, metric='minkowski',\n",
       "           metric_params=None, n_jobs=None, n_neighbors=5, p=2,\n",
       "           weights='uniform'),\n",
       "       fit_params=None, iid='warn', n_jobs=None,\n",
       "       param_grid={'n_neighbors': range(1, 25)}, pre_dispatch='2*n_jobs',\n",
       "       refit=True, return_train_score='warn', scoring=None, verbose=0)"
      ]
     },
     "execution_count": 76,
     "metadata": {},
     "output_type": "execute_result"
    }
   ],
   "source": [
    "grid_search.fit(X_TRAIN, Y_TRAIN)"
   ]
  },
  {
   "cell_type": "code",
   "execution_count": 78,
   "id": "c6cbfc70",
   "metadata": {},
   "outputs": [],
   "source": [
    "#BEST NUMBER OF NEIGHBORS\n",
    "best_n_neighbors = grid_search.best_params_['n_neighbors']"
   ]
  },
  {
   "cell_type": "code",
   "execution_count": 79,
   "id": "c53d2a10",
   "metadata": {},
   "outputs": [],
   "source": [
    "#NEW KNN CLASSIFIER\n",
    "best_knn_classifier = KNeighborsClassifier(n_neighbors = best_n_neighbors)"
   ]
  },
  {
   "cell_type": "code",
   "execution_count": 80,
   "id": "b1e8edfe",
   "metadata": {},
   "outputs": [
    {
     "data": {
      "text/plain": [
       "KNeighborsClassifier(algorithm='auto', leaf_size=30, metric='minkowski',\n",
       "           metric_params=None, n_jobs=None, n_neighbors=17, p=2,\n",
       "           weights='uniform')"
      ]
     },
     "execution_count": 80,
     "metadata": {},
     "output_type": "execute_result"
    }
   ],
   "source": [
    "#FIT ON TRAINING DATA\n",
    "best_knn_classifier.fit(X_TRAIN, Y_TRAIN)"
   ]
  },
  {
   "cell_type": "code",
   "execution_count": 81,
   "id": "5fdf75e5",
   "metadata": {},
   "outputs": [],
   "source": [
    "#MAKE PREDICTIONS\n",
    "predictions = best_knn_classifier.predict(X_TEST)"
   ]
  },
  {
   "cell_type": "code",
   "execution_count": 82,
   "id": "ed5913fe",
   "metadata": {},
   "outputs": [
    {
     "name": "stdout",
     "output_type": "stream",
     "text": [
      "              precision    recall  f1-score   support\n",
      "\n",
      "        Fake       0.61      0.59      0.60      2115\n",
      "    Not Fake       0.60      0.62      0.61      2085\n",
      "\n",
      "   micro avg       0.60      0.60      0.60      4200\n",
      "   macro avg       0.60      0.60      0.60      4200\n",
      "weighted avg       0.60      0.60      0.60      4200\n",
      "\n"
     ]
    }
   ],
   "source": [
    "#CLASSIFICATION REPORT\n",
    "print(classification_report(Y_TEST, predictions))\n",
    "#BAD PRECISION OF JUST 61%"
   ]
  },
  {
   "cell_type": "code",
   "execution_count": null,
   "id": "c462a803",
   "metadata": {},
   "outputs": [],
   "source": []
  },
  {
   "cell_type": "code",
   "execution_count": null,
   "id": "bd3f747d",
   "metadata": {},
   "outputs": [],
   "source": []
  }
 ],
 "metadata": {
  "kernelspec": {
   "display_name": "Python 3 (ipykernel)",
   "language": "python",
   "name": "python3"
  },
  "language_info": {
   "codemirror_mode": {
    "name": "ipython",
    "version": 3
   },
   "file_extension": ".py",
   "mimetype": "text/x-python",
   "name": "python",
   "nbconvert_exporter": "python",
   "pygments_lexer": "ipython3",
   "version": "3.7.16"
  }
 },
 "nbformat": 4,
 "nbformat_minor": 5
}
