{
 "cells": [
  {
   "cell_type": "code",
   "execution_count": 27,
   "id": "aa29cc97",
   "metadata": {},
   "outputs": [],
   "source": [
    "#UNSUPERVISED LEARNING FOR THE 2ND DATASET\n",
    "import numpy as np\n",
    "import pandas as pd"
   ]
  },
  {
   "cell_type": "code",
   "execution_count": 28,
   "id": "6524e3c5",
   "metadata": {},
   "outputs": [],
   "source": [
    "#DATA FRAME FOR DATASET\n",
    "df = pd.read_csv('amazon_reviews2.csv',sep=',')"
   ]
  },
  {
   "cell_type": "code",
   "execution_count": 29,
   "id": "b1d1d2aa",
   "metadata": {},
   "outputs": [
    {
     "data": {
      "text/plain": [
       "Index(['url', 'review_bold', 'ratings', 'review', 'verified', 'date', 'by',\n",
       "       'profile_id', 'most_rev', 'by_link', 'helpful', 'product',\n",
       "       'product_link', 'review_sentiment'],\n",
       "      dtype='object')"
      ]
     },
     "execution_count": 29,
     "metadata": {},
     "output_type": "execute_result"
    }
   ],
   "source": [
    "df.columns"
   ]
  },
  {
   "cell_type": "code",
   "execution_count": 30,
   "id": "6e1c2c3a",
   "metadata": {},
   "outputs": [],
   "source": [
    "#REVIEW_BOLD IS THE REVIEW TITLE\n",
    "df.rename(columns={'review_bold':'review_title'}, inplace=True)"
   ]
  },
  {
   "cell_type": "code",
   "execution_count": 31,
   "id": "248ead32",
   "metadata": {},
   "outputs": [],
   "source": [
    "#BY IS USER_NAME\n",
    "df.rename(columns={'by':'user_name'}, inplace=True)\n",
    "\n",
    "#profile_id is user_id\n",
    "df.rename(columns={'profile_id':'user_id'}, inplace=True)\n",
    "\n",
    "#most_rev is highest number of reviews made in a day by user\n",
    "df.rename(columns={'most_rev':'max_reviews_day'}, inplace=True)"
   ]
  },
  {
   "cell_type": "code",
   "execution_count": 32,
   "id": "1301f3b5",
   "metadata": {},
   "outputs": [],
   "source": [
    "#THEY USE THE TEXTBLOB SENTIMENT SCORE\n",
    "\n",
    "#helpful is number of helpful votes\n",
    "df.rename(columns={'helpful':'helpful_votes'}, inplace=True)"
   ]
  },
  {
   "cell_type": "code",
   "execution_count": 10,
   "id": "30cb31a0",
   "metadata": {},
   "outputs": [
    {
     "data": {
      "text/plain": [
       "In Ear Earphones Black                                                                                                                                                                                                            115\n",
       "Earphones In ear Black&Red                                                                                                                                                                                                        115\n",
       "Earphones, XuDirect Earbuds In-line Control Headphones with Microphone Black                                                                                                                                                      107\n",
       "AmazonBasics Sport In-Ear Headphones                                                                                                                                                                                               83\n",
       "Earphones In Line Headphones                                                                                                                                                                                                       78\n",
       "AmazonBasics In-Ear Headphones - Premium - Black                                                                                                                                                                                   53\n",
       "EM10 earphones                                                                                                                                                                                                                     49\n",
       "AmazonBasics In-Ear Headphones with Microphone - Black                                                                                                                                                                             41\n",
       "Headphones In ear Black                                                                                                                                                                                                            21\n",
       "Earbuds In ear Black&Red                                                                                                                                                                                                           20\n",
       "In ear Earbuds Earhook Design Black                                                                                                                                                                                                19\n",
       "XuDirect earphones                                                                                                                                                                                                                 18\n",
       "Earbuds with Mic Black                                                                                                                                                                                                             16\n",
       "On Ear Headphones Black                                                                                                                                                                                                            15\n",
       "Earbuds In Ear Headphones Center Button Black                                                                                                                                                                                      14\n",
       "Cospor Bluetooth Headphones Wireless Stereo Sport Earbuds Noise Cancelling Sweat-proof In Ear Headset ...                                                                                                                          12\n",
       "Headphones with Earhook Design Black                                                                                                                                                                                               11\n",
       "Bluetooth Speakers, XuDirect Lamp Portable LED Wireless Speakers with Subwoofer Indoors Lamp for Bedrooms                                                                                                                          11\n",
       "Willnorn SoundPlus Dual-Driver Portable Wireless Bluetooth Speaker with Big Subwoofer Enhanced Bass, 24 Hour Playtime, NFC, Outdoor Waterproof, Superior Clarity Sound for iPhone Samsung                                          10\n",
       "Headphones Magnetic Wireless 4.1 Earbud Headset Secure Fit for Sports with Built-in Mic.                                                                                                                                            9\n",
       "Earphones with Mic Red&Black                                                                                                                                                                                                        9\n",
       "Prime Day Bluetooth Speakers, Boostek Magic Color Changing Wireless LED Subwoofer Portable for Party                                                                                                                                9\n",
       "Earphones OCOMI Wired Headphones In Ear Earbuds with Microphone In-line Control Clear Sound Special Design Cable Clip Included Black                                                                                                8\n",
       "Earbuds, XuDirect SE570 Wired Earphones with Microphone Line Control In-ear Headphones Black                                                                                                                                        8\n",
       "YOUSIPI Lightning Cable BL-667 1.2M                                                                                                                                                                                                 8\n",
       "SATINATO VEST WHITE                                                                                                                                                                                                                 7\n",
       "Fire TV Stick | Streaming Media Player (Previous generation)                                                                                                                                                                        7\n",
       "YOUSIPI Headphones In Ear Earbuds with Mic Wired Stereo Sound Earphones Black                                                                                                                                                       6\n",
       "Headphones OCOMI In-line Control Earbuds Wired Earphones with Microphone Crystal Sound Compact Design Black                                                                                                                         6\n",
       "Earphones In ear Black                                                                                                                                                                                                              6\n",
       "                                                                                                                                                                                                                                 ... \n",
       "Vax U91-MA-P Air Pet Multicyclonic Bagless Upright Vacuum Cleaner                                                                                                                                                                   1\n",
       "leading-star Creative Toothpaste Dispenser Animal Tube Easy Squeezer                                                                                                                                                                1\n",
       "2 x Samsung Galaxy W i8150 High Capacity 1700 mAh Battery (Double value pack)                                                                                                                                                       1\n",
       "New Body Chain Jewellery Bikini Waist Gold Belly Sexy Beach Harness Slave Necklace                                                                                                                                                  1\n",
       "Instrapac 7875 Minor Surgery Pack                                                                                                                                                                                                   1\n",
       "Bosch PSM 100 A Multi-Sander                                                                                                                                                                                                        1\n",
       "Hyacinths Big Buy Value Pack / Mixed Colours (Packs of 17)                                                                                                                                                                          1\n",
       "Rose Gold Plated Infinity Bangle Bracelet for Women with Crystals from Swarovski                                                                                                                                                    1\n",
       "Tower Pro Hard Anodised Frying Pan with Non-Stick Inner Coating, Graphite, 28 cm Diameter                                                                                                                                           1\n",
       "Anker� C200 Full-Size Ergonomic Wireless Mouse with 6 Buttons, 3 DPI Adjustment Levels and 2000 DPI (Blue)                                                                                                                          1\n",
       "APHOGEE Intensive Two Minute Keratin Reconstructor Restores Softness & Elasticity & Repairs Damaged Hair 16oz/473ml                                                                                                                 1\n",
       "SQUARE ADHESIVE RUBBER STICK-ON FEET SMALL NON-SLIP NEW                                                                                                                                                                             1\n",
       "Card-io Last Orders Majestix Stamp Set                                                                                                                                                                                              1\n",
       "Playmobil 6778 1.2.3 Take Along Farm Barn                                                                                                                                                                                           1\n",
       "uni-ball 0.4 mm 141351 \"Power Tank\" Pen - Blue                                                                                                                                                                                      1\n",
       "3 Pairs Babies Girls Knitted Plain Tights Cotton Rich Age 1 - 12 Years (Girls 2 - 3 Yrs, White)                                                                                                                                     1\n",
       "Hill Climb Racing                                                                                                                                                                                                                   1\n",
       "Durham: City, Vale, Dales and Coast (Pitkin Guide)                                                                                                                                                                                  1\n",
       "The Snowman: Harry Hole 7                                                                                                                                                                                                           1\n",
       "Gaming Mouse, [New Version] VicTsing 3200 DPI 6 Buttons Professional Wired Gaming USB Optical Laptop PC Computer Mouse with Multi-color Breathing Light, 4 DPI Adjustable Levels for Windows7/8/10/XP, Vista7/8, Linux - Black      1\n",
       "Sherlock - Sherlock Holmes With Violin                                                                                                                                                                                              1\n",
       "IGEMY 10 Style Stainless Car Air Vent Freshener Essential Oil Diffuser Locket (A)                                                                                                                                                   1\n",
       "Madagascar (PC)                                                                                                                                                                                                                     1\n",
       "Everlast Pro Style PU Pro Bag Boxing Gloves blanco white Size:14oz                                                                                                                                                                  1\n",
       "Chicago Metallic Professional Non-Stick Ring-Shaped Angel Food Cake Tin with Loose Base, 25 cm (10\")                                                                                                                                1\n",
       "Naipo Back and Neck Rechargeable Massager with 8 Shiatsu Kneading Massage Nodes, Three Bi-directional Speeds, Longer Straps, and Velcro for Car, Home, and Office Use                                                               1\n",
       "Lizzie's Daughters: Intrigue, danger and excitement in 1950's London (The Workshop Girls)                                                                                                                                           1\n",
       "Outdoor Mini Greenhouse PVC Cover With 16mm Steel Tube Frame 2 Tier                                                                                                                                                                 1\n",
       "TP-LINK TL-WPA4230PKIT AV500 Powerline 300 M Wi-Fi Extender/Wi-Fi Booster/Hotspot with AC Pass Through, Multiple Ethernet Ports, Starter Kit/Twin Pack                                                                              1\n",
       "Crystal Deodorant Essence Spray Pomegranate 120 ml                                                                                                                                                                                  1\n",
       "Name: product, Length: 6016, dtype: int64"
      ]
     },
     "execution_count": 10,
     "metadata": {},
     "output_type": "execute_result"
    }
   ],
   "source": [
    "#LESS VARIETY IN PRODUCTS THAN PREVIOUS DATASET\n",
    "df['product'].value_counts()"
   ]
  },
  {
   "cell_type": "code",
   "execution_count": 33,
   "id": "24365b39",
   "metadata": {},
   "outputs": [],
   "source": [
    "#ADD A NUMBER OF REVIEWS COLUMN [PRODUCT]\n",
    "num_reviews = df.groupby('product').size()\n",
    "\n",
    "df['total_reviews'] = df['product'].map(num_reviews)"
   ]
  },
  {
   "cell_type": "code",
   "execution_count": 45,
   "id": "0171d4ec",
   "metadata": {},
   "outputs": [],
   "source": [
    "#ADD A NUMBER OF REVIEWS BY USER COLUMN\n",
    "num_reviews = df.groupby('user_id').size()\n",
    "df['total_user_reviews'] = df['user_id'].map(num_reviews)"
   ]
  },
  {
   "cell_type": "code",
   "execution_count": 38,
   "id": "c3517d33",
   "metadata": {},
   "outputs": [],
   "source": [
    "#ADD AN AVERAGE-RATING COLUMN\n",
    "average_ratings = df.groupby('product')['ratings'].mean()\n",
    "\n",
    "df['average_rating'] = df['product'].map(average_ratings)"
   ]
  },
  {
   "cell_type": "code",
   "execution_count": 39,
   "id": "5664a385",
   "metadata": {},
   "outputs": [],
   "source": [
    "#ADD RATING DEVIATION COLUMN\n",
    "df['rating_deviation'] = df['ratings'] - df['average_rating']"
   ]
  },
  {
   "cell_type": "code",
   "execution_count": 42,
   "id": "d3c161ac",
   "metadata": {},
   "outputs": [],
   "source": [
    "#ADD REVIEW LENGTH COLUMN\n",
    "df['review_length'] = df['review'].apply(lambda d: len(d))"
   ]
  },
  {
   "cell_type": "code",
   "execution_count": 43,
   "id": "63653ea1",
   "metadata": {},
   "outputs": [],
   "source": [
    "#ADD TITLE LENGTH COLUMN\n",
    "df['title_length'] = df['review_title'].apply(lambda d: len(d))"
   ]
  },
  {
   "cell_type": "code",
   "execution_count": 52,
   "id": "e2389ab9",
   "metadata": {},
   "outputs": [],
   "source": [
    "#ADD TIME DIFFERENCE BETWEEN FIRST REVIEW OF USER AND LAST REVIEW OF USER COLUMN\n",
    "\n",
    "# Step 1: Convert the date column to datetime format\n",
    "df['date'] = pd.to_datetime(df['date'], format='%d %B %Y')\n",
    "\n",
    "# Step 2: Group the DataFrame by user_id and calculate the date difference\n",
    "date_diff = df.groupby('user_id')['date'].apply(lambda x: (x.max() - x.min()).days).reset_index()\n",
    "\n",
    "# Step 3: Merge the date_diff with the original DataFrame\n",
    "df = pd.merge(df, date_diff, on='user_id')\n",
    "\n",
    "# Step 4: Rename the newly added column\n",
    "df.rename(columns={'date_y': 'review_date_diff'}, inplace=True)\n",
    "\n"
   ]
  },
  {
   "cell_type": "code",
   "execution_count": 54,
   "id": "8799586c",
   "metadata": {},
   "outputs": [],
   "source": [
    "df.to_csv('amazon_reviews2.csv')"
   ]
  },
  {
   "cell_type": "code",
   "execution_count": null,
   "id": "5352d437",
   "metadata": {},
   "outputs": [],
   "source": []
  },
  {
   "cell_type": "code",
   "execution_count": null,
   "id": "6d236e98",
   "metadata": {},
   "outputs": [],
   "source": []
  },
  {
   "cell_type": "code",
   "execution_count": null,
   "id": "7c070d6f",
   "metadata": {},
   "outputs": [],
   "source": []
  },
  {
   "cell_type": "code",
   "execution_count": null,
   "id": "58c0c4d9",
   "metadata": {},
   "outputs": [],
   "source": []
  },
  {
   "cell_type": "code",
   "execution_count": null,
   "id": "c4ea8132",
   "metadata": {},
   "outputs": [],
   "source": []
  },
  {
   "cell_type": "code",
   "execution_count": null,
   "id": "d84fd981",
   "metadata": {},
   "outputs": [],
   "source": []
  },
  {
   "cell_type": "code",
   "execution_count": null,
   "id": "45967d4b",
   "metadata": {},
   "outputs": [],
   "source": []
  },
  {
   "cell_type": "code",
   "execution_count": null,
   "id": "11c66c9f",
   "metadata": {},
   "outputs": [],
   "source": []
  },
  {
   "cell_type": "code",
   "execution_count": 23,
   "id": "710ea113",
   "metadata": {},
   "outputs": [],
   "source": [
    "#CHECK FOR DUPLICATE REVIEW TEXTS USING JACCARD SIMILARITY\n",
    "from nltk import ngrams\n",
    "import spacy\n",
    "\n",
    "en = spacy.load('en_core_web_sm')\n",
    "stop_words= en.Defaults.stop_words\n",
    "\n",
    "def jaccard_similarity_score(review1, review2):\n",
    "\n",
    "    # Convert review1 into set of unigrams without stop words\n",
    "    set1 = set(ngrams([word for word in review1.lower().split()\n",
    "               if word.lower() not in stop_words], n=1))\n",
    "    # Convert review2 into set of unigrams without stop words\n",
    "    set2 = set(ngrams([word for word in review2.lower().split()\n",
    "               if word.lower() not in stop_words], n=1))\n",
    "    intersection = len(set1.intersection(set2))  # Calculate intersection\n",
    "    union = len(set1.union(set2))  # Calculate union\n",
    "    similarity = intersection / union  # Calculate Jaccard similarity\n",
    "    return similarity\n",
    "\n",
    "##FINDS ALL PAIRS OF DUPLICATES\n",
    "def find_duplicates(reviews):\n",
    "    duplicates = []\n",
    "    \n",
    "    for i in range(len(reviews)):\n",
    "        for j in range(i+1, len(reviews)):\n",
    "            similarity = jaccard_similarity_score(reviews[i],reviews[j])\n",
    "            if similarity > 0.9:\n",
    "                duplicates.append((reviews[i], reviews[j]))\n",
    "                \n",
    "    return duplicates\n",
    "\n",
    "##FINDS ALL REVIEWS HAVING ANOTHER DUPLICATE\n",
    "def find_duplicate_reviews(df, threshold=0.9):\n",
    "    duplicates = []\n",
    "    reviewed = set()\n",
    "    \n",
    "    for i, row in df.iterrows():\n",
    "        review = row['review']\n",
    "        if review in reviewed:\n",
    "            continue\n",
    "        \n",
    "        reviewed.add(review)\n",
    "        \n",
    "        for j, other_row in df[i+1:].iterrows():\n",
    "            other_review = other_row['review']\n",
    "            similarity = jaccard_similarity_score(review, other_review)\n",
    "            \n",
    "            if similarity > threshold:\n",
    "                duplicates.append((review, other_review))\n",
    "    \n",
    "    return duplicates\n"
   ]
  },
  {
   "cell_type": "code",
   "execution_count": null,
   "id": "b7322c8f",
   "metadata": {},
   "outputs": [],
   "source": [
    "find_duplicate_reviews(df)"
   ]
  },
  {
   "cell_type": "code",
   "execution_count": null,
   "id": "e5142775",
   "metadata": {},
   "outputs": [],
   "source": []
  },
  {
   "cell_type": "code",
   "execution_count": null,
   "id": "9276957a",
   "metadata": {},
   "outputs": [],
   "source": []
  },
  {
   "cell_type": "code",
   "execution_count": null,
   "id": "3095fb1e",
   "metadata": {},
   "outputs": [],
   "source": []
  },
  {
   "cell_type": "code",
   "execution_count": null,
   "id": "cd368d6b",
   "metadata": {},
   "outputs": [],
   "source": []
  },
  {
   "cell_type": "code",
   "execution_count": null,
   "id": "8361f6ff",
   "metadata": {},
   "outputs": [],
   "source": []
  },
  {
   "cell_type": "code",
   "execution_count": null,
   "id": "caf7d2e7",
   "metadata": {},
   "outputs": [],
   "source": []
  }
 ],
 "metadata": {
  "kernelspec": {
   "display_name": "Python 3 (ipykernel)",
   "language": "python",
   "name": "python3"
  },
  "language_info": {
   "codemirror_mode": {
    "name": "ipython",
    "version": 3
   },
   "file_extension": ".py",
   "mimetype": "text/x-python",
   "name": "python",
   "nbconvert_exporter": "python",
   "pygments_lexer": "ipython3",
   "version": "3.7.16"
  }
 },
 "nbformat": 4,
 "nbformat_minor": 5
}
